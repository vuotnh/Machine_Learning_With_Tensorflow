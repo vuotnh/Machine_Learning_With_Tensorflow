{
 "cells": [
  {
   "cell_type": "code",
   "execution_count": 1,
   "metadata": {},
   "outputs": [],
   "source": [
    "import numpy as np\n",
    "import matplotlib.pyplot as plt\n",
    "import tensorflow as tf"
   ]
  },
  {
   "cell_type": "code",
   "execution_count": 12,
   "metadata": {},
   "outputs": [],
   "source": [
    "learning_rate = 0.01\n",
    "training_epochs = 100\n",
    "x_train = np.linspace(-1, 1, 101)\n",
    "y_train = 2 * x_train + np.random.randn(*x_train.shape) * 0.33"
   ]
  },
  {
   "cell_type": "code",
   "execution_count": 13,
   "metadata": {},
   "outputs": [
    {
     "data": {
      "image/png": "[encoded data removed]",
      "text/plain": [
       "<Figure size 432x288 with 1 Axes>"
      ]
     },
     "metadata": {
      "needs_background": "light"
     },
     "output_type": "display_data"
    }
   ],
   "source": [
    "plt.scatter(x_train, y_train)\n",
    "plt.show()"
   ]
  },
  {
   "cell_type": "code",
   "execution_count": 14,
   "metadata": {},
   "outputs": [],
   "source": [
    "X = tf.constant(x_train, dtype=tf.float32)\n",
    "Y = tf.constant(y_train, dtype=tf.float32)\n",
    "w = tf.Variable(0., name=\"weights\", dtype=tf.float32)\n",
    "cost = lambda: tf.square(Y - tf.multiply(X, w))"
   ]
  },
  {
   "cell_type": "code",
   "execution_count": 15,
   "metadata": {
    "scrolled": true
   },
   "outputs": [
    {
     "name": "stdout",
     "output_type": "stream",
     "text": [
      "1.4246911\n",
      "1.8709044\n",
      "2.0106585\n",
      "2.0544293\n",
      "2.0681384\n",
      "2.072432\n",
      "2.073777\n",
      "2.074198\n",
      "2.0743299\n",
      "2.0743713\n",
      "2.0743842\n",
      "2.0743883\n",
      "2.0743895\n",
      "2.07439\n",
      "2.0743902\n",
      "2.0743902\n",
      "2.0743902\n",
      "2.0743902\n",
      "2.0743902\n",
      "2.0743902\n",
      "2.0743902\n",
      "2.0743902\n",
      "2.0743902\n",
      "2.0743902\n",
      "2.0743902\n",
      "2.0743902\n",
      "2.0743902\n",
      "2.0743902\n",
      "2.0743902\n",
      "2.0743902\n",
      "2.0743902\n",
      "2.0743902\n",
      "2.0743902\n",
      "2.0743902\n",
      "2.0743902\n",
      "2.0743902\n",
      "2.0743902\n",
      "2.0743902\n",
      "2.0743902\n",
      "2.0743902\n",
      "2.0743902\n",
      "2.0743902\n",
      "2.0743902\n",
      "2.0743902\n",
      "2.0743902\n",
      "2.0743902\n",
      "2.0743902\n",
      "2.0743902\n",
      "2.0743902\n",
      "2.0743902\n",
      "2.0743902\n",
      "2.0743902\n",
      "2.0743902\n",
      "2.0743902\n",
      "2.0743902\n",
      "2.0743902\n",
      "2.0743902\n",
      "2.0743902\n",
      "2.0743902\n",
      "2.0743902\n",
      "2.0743902\n",
      "2.0743902\n",
      "2.0743902\n",
      "2.0743902\n",
      "2.0743902\n",
      "2.0743902\n",
      "2.0743902\n",
      "2.0743902\n",
      "2.0743902\n",
      "2.0743902\n",
      "2.0743902\n",
      "2.0743902\n",
      "2.0743902\n",
      "2.0743902\n",
      "2.0743902\n",
      "2.0743902\n",
      "2.0743902\n",
      "2.0743902\n",
      "2.0743902\n",
      "2.0743902\n",
      "2.0743902\n",
      "2.0743902\n",
      "2.0743902\n",
      "2.0743902\n",
      "2.0743902\n",
      "2.0743902\n",
      "2.0743902\n",
      "2.0743902\n",
      "2.0743902\n",
      "2.0743902\n",
      "2.0743902\n",
      "2.0743902\n",
      "2.0743902\n",
      "2.0743902\n",
      "2.0743902\n",
      "2.0743902\n",
      "2.0743902\n",
      "2.0743902\n",
      "2.0743902\n",
      "2.0743902\n"
     ]
    }
   ],
   "source": [
    "train_op = tf.keras.optimizers.SGD(learning_rate)\n",
    "for _ in range(training_epochs):\n",
    "    step_count = train_op.minimize(cost, w)\n",
    "    print(w.numpy())"
   ]
  },
  {
   "cell_type": "code",
   "execution_count": 16,
   "metadata": {},
   "outputs": [
    {
     "name": "stdout",
     "output_type": "stream",
     "text": [
      "Prediction: 2.074390172958374\n"
     ]
    }
   ],
   "source": [
    "val1 = w.value()\n",
    "print(\"Prediction: {}\".format(val1))"
   ]
  },
  {
   "cell_type": "code",
   "execution_count": 17,
   "metadata": {},
   "outputs": [
    {
     "data": {
      "image/png": "[encoded data removed]",
      "text/plain": [
       "<Figure size 432x288 with 1 Axes>"
      ]
     },
     "metadata": {
      "needs_background": "light"
     },
     "output_type": "display_data"
    }
   ],
   "source": [
    "plt.scatter(x_train, y_train)\n",
    "y_learned = x_train * val1\n",
    "plt.plot(x_train, y_learned, 'r')\n",
    "plt.show()"
   ]
  },
  {
   "cell_type": "code",
   "execution_count": null,
   "metadata": {},
   "outputs": [],
   "source": []
  }
 ],
 "metadata": {
  "kernelspec": {
   "display_name": "Python 3",
   "language": "python",
   "name": "python3"
  },
  "language_info": {
   "codemirror_mode": {
    "name": "ipython",
    "version": 3
   },
   "file_extension": ".py",
   "mimetype": "text/x-python",
   "name": "python",
   "nbconvert_exporter": "python",
   "pygments_lexer": "ipython3",
   "version": "3.8.4"
  }
 },
 "nbformat": 4,
 "nbformat_minor": 4
}
