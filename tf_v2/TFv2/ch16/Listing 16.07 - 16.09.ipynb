{
 "cells": [
  {
   "cell_type": "code",
   "execution_count": 1,
   "metadata": {},
   "outputs": [],
   "source": [
    "import csv\n",
    "import numpy as np\n",
    "import matplotlib.pyplot as plt\n",
    "import tensorflow as tf"
   ]
  },
  {
   "cell_type": "code",
   "execution_count": 2,
   "metadata": {},
   "outputs": [],
   "source": [
    "optimizer = tf.keras.optimizers.Adam()"
   ]
  },
  {
   "cell_type": "code",
   "execution_count": 3,
   "metadata": {},
   "outputs": [],
   "source": [
    "def loss(inputs, outputs):\n",
    "    return tf.reduce_mean(tf.square(inputs - outputs))"
   ]
  },
  {
   "cell_type": "code",
   "execution_count": 4,
   "metadata": {},
   "outputs": [],
   "source": [
    "def train_step(model, inputs, outputs):\n",
    "    with tf.GradientTape() as t:\n",
    "        current_loss = loss(model(inputs), outputs)\n",
    "        \n",
    "    grads = t.gradient(current_loss, model.trainable_variables)\n",
    "    optimizer.apply_gradients(zip(grads,model.trainable_variables))\n",
    "    return current_loss"
   ]
  },
  {
   "cell_type": "code",
   "execution_count": 5,
   "metadata": {},
   "outputs": [],
   "source": [
    "class SeriesPredictor(tf.keras.Model):\n",
    "    def __init__(self, input_dim, seq_size, hidden_dim=10):\n",
    "        super(SeriesPredictor, self).__init__()\n",
    "        self.input_dim = input_dim\n",
    "        self.seq_size = seq_size\n",
    "        self.hidden_dim = hidden_dim\n",
    "        \n",
    "        self.cell = tf.keras.layers.SimpleRNNCell(self.hidden_dim)\n",
    "        self.rnn = tf.keras.layers.RNN(self.cell)\n",
    "        self.fc = tf.keras.layers.Dense(self.seq_size)\n",
    "                \n",
    "    def call(self, x): \n",
    "        x = self.rnn(x)\n",
    "        x = self.fc(x)\n",
    "        \n",
    "        return x\n"
   ]
  },
  {
   "cell_type": "code",
   "execution_count": 6,
   "metadata": {},
   "outputs": [],
   "source": [
    "model = SeriesPredictor(input_dim=1, seq_size=5, hidden_dim=100)"
   ]
  },
  {
   "cell_type": "code",
   "execution_count": 7,
   "metadata": {},
   "outputs": [],
   "source": [
    "ckpt = tf.train.Checkpoint(step=tf.Variable(1), optimizer=optimizer, \n",
    "                          model=model)\n",
    "manager = tf.train.CheckpointManager(ckpt, '../models/ch16-model2.ckpt', max_to_keep=3)"
   ]
  },
  {
   "cell_type": "code",
   "execution_count": 8,
   "metadata": {},
   "outputs": [],
   "source": [
    "def train(model, inputs, outputs):\n",
    "    for i in range(1000):\n",
    "        err = train_step(model, inputs, outputs)\n",
    "        ckpt.step.assign_add(1)\n",
    "        if i % 100 == 0:            \n",
    "            save_path = manager.save()\n",
    "            print(\"Saved checkpoint for step {}: {}\".format(int(ckpt.step), save_path))\n",
    "            print(\"loss {:1.2f}\".format(err.numpy()))\n",
    "    \n",
    "    return save_path"
   ]
  },
  {
   "cell_type": "code",
   "execution_count": 9,
   "metadata": {},
   "outputs": [],
   "source": [
    "def test(model, inputs):\n",
    "    ckpt.restore(save_path).assert_consumed()\n",
    "    print(\"Model restored.\")\n",
    "    outputs = model(inputs)\n",
    "#    print(outputs.numpy())\n",
    "    return outputs.numpy()"
   ]
  },
  {
   "cell_type": "code",
   "execution_count": 10,
   "metadata": {},
   "outputs": [],
   "source": [
    "def load_series(filename, series_idx=1):\n",
    "    try:\n",
    "        with open(filename) as csvfile:\n",
    "            csvreader = csv.reader(csvfile, delimiter=';') # Loops through the lines of the file and converts to a floating-point number\n",
    "            next(csvreader) # skip the header\n",
    "            data = [float(row[series_idx]) for row in csvreader if len(row) > 0]\n",
    "            normalized_data = (data - np.mean(data)) / np.std(data)\n",
    "            return normalized_data\n",
    "    except IOError:\n",
    "        return None"
   ]
  },
  {
   "cell_type": "code",
   "execution_count": 11,
   "metadata": {},
   "outputs": [],
   "source": [
    "def split_data(data, percent_train=0.80):\n",
    "    num_rows = len(data) * percent_train\n",
    "    return data[:int(num_rows)], data[int(num_rows):]"
   ]
  },
  {
   "cell_type": "code",
   "execution_count": 12,
   "metadata": {},
   "outputs": [],
   "source": [
    "def plot_results(train_x, predictions, actual, filename):\n",
    "    plt.figure()\n",
    "    num_train = len(train_x)\n",
    "    plt.plot(list(range(num_train)), train_x, color='b', label='training data')\n",
    "    plt.plot(list(range(num_train, num_train + len(predictions))), predictions, color='r', label='predicted')\n",
    "    plt.plot(list(range(num_train, num_train + len(actual))), actual, color='g', label='test data')\n",
    "    plt.legend()\n",
    "    if filename is not None:\n",
    "        plt.savefig(filename)\n",
    "    else:\n",
    "        plt.show()"
   ]
  },
  {
   "cell_type": "code",
   "execution_count": 13,
   "metadata": {},
   "outputs": [
    {
     "data": {
      "image/png": "[encoded data removed]",
      "text/plain": [
       "<Figure size 432x288 with 1 Axes>"
      ]
     },
     "metadata": {
      "needs_background": "light"
     },
     "output_type": "display_data"
    }
   ],
   "source": [
    "seq_size = 5\n",
    "predictor = SeriesPredictor(input_dim=1, seq_size=seq_size, hidden_dim=100)\n",
    "data = load_series('../data/international-airline-passengers.csv')\n",
    "plt.figure()\n",
    "plt.plot(data)\n",
    "plt.show()"
   ]
  },
  {
   "cell_type": "code",
   "execution_count": 14,
   "metadata": {},
   "outputs": [],
   "source": [
    "train_data, actual_vals = split_data(data)"
   ]
  },
  {
   "cell_type": "code",
   "execution_count": 15,
   "metadata": {},
   "outputs": [],
   "source": [
    "train_x, train_y = [], []\n",
    "for i in range(len(train_data) - seq_size - 1):\n",
    "    train_x.append(np.expand_dims(train_data[i:i+seq_size], axis=1).tolist())\n",
    "    train_y.append(train_data[i+1:i+seq_size+1])\n",
    "\n",
    "train_x = np.asarray(train_x)\n",
    "train_y = np.asarray(train_y)"
   ]
  },
  {
   "cell_type": "code",
   "execution_count": 16,
   "metadata": {},
   "outputs": [],
   "source": [
    "test_x, test_y = [], []\n",
    "for i in range(len(actual_vals) - seq_size - 1):\n",
    "    test_x.append(np.expand_dims(actual_vals[i:i+seq_size], axis=1).tolist())\n",
    "    test_y.append(actual_vals[i+1:i+seq_size+1])\n",
    "    \n",
    "test_x = np.asarray(test_x)\n",
    "test_y = np.asarray(test_y)"
   ]
  },
  {
   "cell_type": "code",
   "execution_count": 17,
   "metadata": {},
   "outputs": [
    {
     "name": "stdout",
     "output_type": "stream",
     "text": [
      "WARNING:tensorflow:Layer series_predictor is casting an input tensor from dtype float64 to the layer's dtype of float32, which is new behavior in TensorFlow 2.  The layer has dtype float32 because its dtype defaults to floatx.\n",
      "\n",
      "If you intended to run this layer in float32, you can safely ignore this warning. If in doubt, this warning is likely only an issue if you are porting a TensorFlow 1.X model to TensorFlow 2.\n",
      "\n",
      "To change all layers to have dtype float64 by default, call `tf.keras.backend.set_floatx('float64')`. To change just this layer, pass dtype='float64' to the layer constructor. If you are the author of this layer, you can disable autocasting by passing autocast=False to the base Layer constructor.\n",
      "\n",
      "Saved checkpoint for step 2: ../models/ch16-model2.ckpt/ckpt-1\n",
      "loss 0.82\n",
      "Saved checkpoint for step 102: ../models/ch16-model2.ckpt/ckpt-2\n",
      "loss 0.02\n",
      "Saved checkpoint for step 202: ../models/ch16-model2.ckpt/ckpt-3\n",
      "loss 0.01\n",
      "Saved checkpoint for step 302: ../models/ch16-model2.ckpt/ckpt-4\n",
      "loss 0.01\n",
      "Saved checkpoint for step 402: ../models/ch16-model2.ckpt/ckpt-5\n",
      "loss 0.01\n",
      "Saved checkpoint for step 502: ../models/ch16-model2.ckpt/ckpt-6\n",
      "loss 0.01\n",
      "Saved checkpoint for step 602: ../models/ch16-model2.ckpt/ckpt-7\n",
      "loss 0.01\n",
      "Saved checkpoint for step 702: ../models/ch16-model2.ckpt/ckpt-8\n",
      "loss 0.01\n",
      "Saved checkpoint for step 802: ../models/ch16-model2.ckpt/ckpt-9\n",
      "loss 0.01\n",
      "Saved checkpoint for step 902: ../models/ch16-model2.ckpt/ckpt-10\n",
      "loss 0.01\n"
     ]
    }
   ],
   "source": [
    "save_path = train(model, train_x, train_y)"
   ]
  },
  {
   "cell_type": "code",
   "execution_count": 18,
   "metadata": {},
   "outputs": [
    {
     "name": "stdout",
     "output_type": "stream",
     "text": [
      "Model restored.\n"
     ]
    }
   ],
   "source": [
    "predicted_vals = test(model, test_x)[:,0]"
   ]
  },
  {
   "cell_type": "code",
   "execution_count": 19,
   "metadata": {},
   "outputs": [
    {
     "name": "stdout",
     "output_type": "stream",
     "text": [
      "predicted_vals (23,)\n",
      "Model restored.\n",
      "Model restored.\n",
      "Model restored.\n",
      "Model restored.\n",
      "Model restored.\n",
      "Model restored.\n",
      "Model restored.\n",
      "Model restored.\n",
      "Model restored.\n",
      "Model restored.\n",
      "Model restored.\n",
      "Model restored.\n",
      "Model restored.\n",
      "Model restored.\n",
      "Model restored.\n",
      "Model restored.\n",
      "Model restored.\n",
      "Model restored.\n",
      "Model restored.\n",
      "Model restored.\n"
     ]
    },
    {
     "data": {
      "image/png": "[encoded data removed]",
      "text/plain": [
       "<Figure size 432x288 with 1 Axes>"
      ]
     },
     "metadata": {
      "needs_background": "light"
     },
     "output_type": "display_data"
    },
    {
     "data": {
      "image/png": "[encoded data removed]",
      "text/plain": [
       "<Figure size 432x288 with 1 Axes>"
      ]
     },
     "metadata": {
      "needs_background": "light"
     },
     "output_type": "display_data"
    }
   ],
   "source": [
    "print('predicted_vals', np.shape(predicted_vals))\n",
    "plot_results(train_data, predicted_vals, actual_vals, '../data/cache/predictions.png')\n",
    "\n",
    "prev_seq = train_x[-1]\n",
    "predicted_vals = []\n",
    "for i in range(20):\n",
    "    next_seq = test(model, np.asarray([prev_seq]))[:,0]\n",
    "    predicted_vals.append(next_seq[-1])\n",
    "    prev_seq = np.vstack((prev_seq[1:], next_seq[-1]))\n",
    "plot_results(train_data, predicted_vals, actual_vals, '../data/cache/hallucinations.png')"
   ]
  },
  {
   "cell_type": "code",
   "execution_count": null,
   "metadata": {},
   "outputs": [],
   "source": []
  }
 ],
 "metadata": {
  "kernelspec": {
   "display_name": "Python 3",
   "language": "python",
   "name": "python3"
  },
  "language_info": {
   "codemirror_mode": {
    "name": "ipython",
    "version": 3
   },
   "file_extension": ".py",
   "mimetype": "text/x-python",
   "name": "python",
   "nbconvert_exporter": "python",
   "pygments_lexer": "ipython3",
   "version": "3.8.5"
  }
 },
 "nbformat": 4,
 "nbformat_minor": 2
}
