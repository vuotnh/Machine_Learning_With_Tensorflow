{
 "cells": [
  {
   "cell_type": "code",
   "execution_count": 1,
   "metadata": {},
   "outputs": [],
   "source": [
    "import numpy as np\n",
    "import tensorflow as tf"
   ]
  },
  {
   "cell_type": "code",
   "execution_count": 2,
   "metadata": {},
   "outputs": [],
   "source": [
    "optimizer = tf.keras.optimizers.Adam()"
   ]
  },
  {
   "cell_type": "code",
   "execution_count": 3,
   "metadata": {},
   "outputs": [],
   "source": [
    "def loss(inputs, outputs):\n",
    "    return tf.reduce_mean(tf.square(inputs - outputs))"
   ]
  },
  {
   "cell_type": "code",
   "execution_count": 4,
   "metadata": {},
   "outputs": [],
   "source": [
    "def train_step(model, inputs, outputs):\n",
    "    with tf.GradientTape() as t:\n",
    "        current_loss = loss(model(inputs), outputs)\n",
    "        \n",
    "    grads = t.gradient(current_loss, model.trainable_variables)\n",
    "    optimizer.apply_gradients(zip(grads,model.trainable_variables))\n",
    "    return current_loss"
   ]
  },
  {
   "cell_type": "code",
   "execution_count": 5,
   "metadata": {},
   "outputs": [],
   "source": [
    "class SeriesPredictor(tf.keras.Model):\n",
    "    def __init__(self, input_dim, seq_size, hidden_dim=10):\n",
    "        super(SeriesPredictor, self).__init__()\n",
    "        self.input_dim = input_dim\n",
    "        self.seq_size = seq_size\n",
    "        self.hidden_dim = hidden_dim\n",
    "        \n",
    "        self.cell = tf.keras.layers.SimpleRNNCell(self.hidden_dim)\n",
    "        self.rnn = tf.keras.layers.RNN(self.cell)\n",
    "        self.fc = tf.keras.layers.Dense(self.seq_size)\n",
    "                \n",
    "    def call(self, x): \n",
    "        x = self.rnn(x)\n",
    "        x = self.fc(x)\n",
    "        \n",
    "        return x"
   ]
  },
  {
   "cell_type": "code",
   "execution_count": 6,
   "metadata": {},
   "outputs": [],
   "source": [
    "model = SeriesPredictor(input_dim=1, seq_size=4, hidden_dim=10)"
   ]
  },
  {
   "cell_type": "code",
   "execution_count": 7,
   "metadata": {},
   "outputs": [],
   "source": [
    "ckpt = tf.train.Checkpoint(step=tf.Variable(1), optimizer=optimizer, \n",
    "                          model=model)\n",
    "manager = tf.train.CheckpointManager(ckpt, '../models/ch16-model.ckpt', max_to_keep=3)"
   ]
  },
  {
   "cell_type": "code",
   "execution_count": 8,
   "metadata": {},
   "outputs": [],
   "source": [
    "def train(model, inputs, outputs):\n",
    "    for i in range(1000):\n",
    "        err = train_step(model, inputs, outputs)\n",
    "        ckpt.step.assign_add(1)\n",
    "        if i % 100 == 0:            \n",
    "            save_path = manager.save()\n",
    "            print(\"Saved checkpoint for step {}: {}\".format(int(ckpt.step), save_path))\n",
    "            print(\"loss {:1.2f}\".format(err.numpy()))\n",
    "    \n",
    "    return save_path"
   ]
  },
  {
   "cell_type": "code",
   "execution_count": 9,
   "metadata": {},
   "outputs": [],
   "source": [
    "def test(model, inputs):\n",
    "    ckpt.restore(save_path).assert_consumed()\n",
    "    print(\"Model restored.\")\n",
    "    outputs = model(inputs)\n",
    "    print(outputs.numpy())"
   ]
  },
  {
   "cell_type": "code",
   "execution_count": 10,
   "metadata": {},
   "outputs": [
    {
     "name": "stdout",
     "output_type": "stream",
     "text": [
      "(3, 4, 1)\n",
      "(3, 4)\n",
      "(2, 4, 1)\n"
     ]
    }
   ],
   "source": [
    "train_x = np.asarray([[[1], [2], [5], [6]],\n",
    "           [[5], [7], [7], [8]],\n",
    "           [[3], [4], [5], [7]]], dtype=np.float32)\n",
    "train_y = np.asarray([[1, 3, 7, 11],\n",
    "           [5, 12, 14, 15],\n",
    "           [3, 7, 9, 12]], dtype=np.float32)\n",
    "\n",
    "test_x = np.asarray([[[1], [2], [3], [4]],\n",
    "          [[4], [5], [6], [7]]], dtype=np.float32)\n",
    "\n",
    "print(np.shape(train_x))\n",
    "print(np.shape(train_y))\n",
    "print(np.shape(test_x))\n"
   ]
  },
  {
   "cell_type": "code",
   "execution_count": 11,
   "metadata": {},
   "outputs": [
    {
     "name": "stdout",
     "output_type": "stream",
     "text": [
      "Saved checkpoint for step 2: ../models/ch16-model.ckpt/ckpt-1\n",
      "loss 87.04\n",
      "Saved checkpoint for step 102: ../models/ch16-model.ckpt/ckpt-2\n",
      "loss 68.47\n",
      "Saved checkpoint for step 202: ../models/ch16-model.ckpt/ckpt-3\n",
      "loss 53.56\n",
      "Saved checkpoint for step 302: ../models/ch16-model.ckpt/ckpt-4\n",
      "loss 42.57\n",
      "Saved checkpoint for step 402: ../models/ch16-model.ckpt/ckpt-5\n",
      "loss 34.20\n",
      "Saved checkpoint for step 502: ../models/ch16-model.ckpt/ckpt-6\n",
      "loss 27.70\n",
      "Saved checkpoint for step 602: ../models/ch16-model.ckpt/ckpt-7\n",
      "loss 22.65\n",
      "Saved checkpoint for step 702: ../models/ch16-model.ckpt/ckpt-8\n",
      "loss 18.73\n",
      "Saved checkpoint for step 802: ../models/ch16-model.ckpt/ckpt-9\n",
      "loss 15.71\n",
      "Saved checkpoint for step 902: ../models/ch16-model.ckpt/ckpt-10\n",
      "loss 13.40\n"
     ]
    }
   ],
   "source": [
    "save_path = train(model, train_x, train_y)"
   ]
  },
  {
   "cell_type": "code",
   "execution_count": 12,
   "metadata": {},
   "outputs": [
    {
     "name": "stdout",
     "output_type": "stream",
     "text": [
      "Model restored.\n",
      "[[2.9591253 6.653071  8.215342  7.891247 ]\n",
      " [2.9956038 6.7035503 8.27158   7.931595 ]]\n"
     ]
    }
   ],
   "source": [
    "test(model, test_x)"
   ]
  },
  {
   "cell_type": "code",
   "execution_count": null,
   "metadata": {},
   "outputs": [],
   "source": []
  }
 ],
 "metadata": {
  "kernelspec": {
   "display_name": "Python 3",
   "language": "python",
   "name": "python3"
  },
  "language_info": {
   "codemirror_mode": {
    "name": "ipython",
    "version": 3
   },
   "file_extension": ".py",
   "mimetype": "text/x-python",
   "name": "python",
   "nbconvert_exporter": "python",
   "pygments_lexer": "ipython3",
   "version": "3.8.5"
  }
 },
 "nbformat": 4,
 "nbformat_minor": 2
}
