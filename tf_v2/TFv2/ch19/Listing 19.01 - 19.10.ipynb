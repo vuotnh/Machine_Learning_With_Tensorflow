{
 "cells": [
  {
   "cell_type": "code",
   "execution_count": 1,
   "metadata": {},
   "outputs": [],
   "source": [
    "import tensorflow as tf\n",
    "import numpy as np\n",
    "import random\n",
    "%matplotlib inline\n",
    "import matplotlib.pyplot as plt"
   ]
  },
  {
   "cell_type": "code",
   "execution_count": 2,
   "metadata": {},
   "outputs": [
    {
     "data": {
      "image/png": "[encoded data removed]",
      "text/plain": [
       "<Figure size 432x288 with 1 Axes>"
      ]
     },
     "metadata": {
      "needs_background": "light"
     },
     "output_type": "display_data"
    }
   ],
   "source": [
    "n_features = 2\n",
    "\n",
    "def get_data():\n",
    "    data_a = np.random.rand(10, n_features) + 1\n",
    "    data_b = np.random.rand(10, n_features)\n",
    "    \n",
    "    plt.scatter(data_a[:, 0], data_a[:, 1], c='r', marker='x')\n",
    "    plt.scatter(data_b[:, 0], data_b[:, 1], c='g', marker='o')\n",
    "    plt.show()\n",
    "    \n",
    "    return data_a, data_b\n",
    "\n",
    "data_a, data_b = get_data()\n",
    "data_a = data_a.astype(np.double)\n",
    "data_b = data_b.astype(np.double)"
   ]
  },
  {
   "cell_type": "code",
   "execution_count": 3,
   "metadata": {},
   "outputs": [],
   "source": [
    "n_hidden=10"
   ]
  },
  {
   "cell_type": "code",
   "execution_count": 4,
   "metadata": {},
   "outputs": [],
   "source": [
    "class Model(object):\n",
    "    \n",
    "    def __init__(self):\n",
    "        self.w1_i = tf.Variable(tf.random.normal([n_features, n_hidden], dtype=tf.double), name=\"w1\", dtype=tf.double)\n",
    "        tf.summary.histogram(\"w1\", self.w1_i)\n",
    "        self.b1_i = tf.Variable(tf.random.normal([n_hidden], dtype=tf.double), name=\"b1\", dtype=tf.double)\n",
    "        tf.summary.histogram(\"b1\", self.b1_i)\n",
    "        \n",
    "        self.w2_o = tf.Variable(tf.random.normal([n_hidden, 1], dtype=tf.double), name=\"w2\")\n",
    "        tf.summary.histogram(\"w2\", self.w2_o)\n",
    "        self.b2_o = tf.Variable(tf.random.normal([1], dtype=tf.double), name=\"b2\")\n",
    "        tf.summary.histogram(\"b2\", self.b2_o)\n",
    "\n",
    "    def __call__(self, x, y):\n",
    "        h1 = tf.nn.dropout(tf.nn.relu(tf.matmul(x, self.w1_i) + self.b1_i), rate=0.5)\n",
    "        tf.summary.histogram(\"h1\", h1)\n",
    "        h2 = tf.nn.dropout(tf.nn.relu(tf.matmul(y, self.w1_i) + self.b1_i), rate=0.5)\n",
    "        tf.summary.histogram(\"h2\", h2)\n",
    "        \n",
    "        s1 = tf.matmul(h1, self.w2_o) + self.b2_o\n",
    "        s2 = tf.matmul(h2, self.w2_o) + self.b2_o\n",
    "        \n",
    "        s12 = s1 - s2\n",
    "        s12_flat = tf.reshape(s12, [-1])\n",
    "        \n",
    "        return s12_flat\n",
    "    \n",
    "    def get_embeddings_s1(self, x):\n",
    "        h1 = tf.nn.dropout(tf.nn.relu(tf.matmul(x, self.w1_i) + self.b1_i), rate=0.5)\n",
    "        s1 = tf.matmul(h1, self.w2_o) + self.b2_o\n",
    "        return s1\n",
    "        \n",
    "        "
   ]
  },
  {
   "cell_type": "code",
   "execution_count": 5,
   "metadata": {},
   "outputs": [],
   "source": [
    "optimizer = tf.keras.optimizers.Adam(learning_rate=0.001)"
   ]
  },
  {
   "cell_type": "code",
   "execution_count": 6,
   "metadata": {},
   "outputs": [],
   "source": [
    "def loss(model, inputs, inputs2):\n",
    "    return tf.reduce_mean(tf.nn.softmax_cross_entropy_with_logits(logits=model(inputs, inputs2) + 1, labels=tf.zeros_like(model(inputs, inputs2))))"
   ]
  },
  {
   "cell_type": "code",
   "execution_count": 7,
   "metadata": {},
   "outputs": [],
   "source": [
    "def train_step(model, inputs, inputs2):\n",
    "    trainable_variables = [model.w1_i, model.b1_i, model.w2_o, model.b2_o]\n",
    "    with tf.GradientTape() as t:\n",
    "        current_loss = loss(model, inputs, inputs2)\n",
    "        \n",
    "    grads = t.gradient(current_loss, trainable_variables)\n",
    "    optimizer.apply_gradients(zip(grads,trainable_variables))\n",
    "    return current_loss"
   ]
  },
  {
   "cell_type": "code",
   "execution_count": 8,
   "metadata": {},
   "outputs": [],
   "source": [
    "model = Model()"
   ]
  },
  {
   "cell_type": "code",
   "execution_count": 9,
   "metadata": {},
   "outputs": [
    {
     "name": "stdout",
     "output_type": "stream",
     "text": [
      "Step 0 Train Loss 0.000000 \n",
      "Step 100 Train Loss 0.000000 \n",
      "Step 200 Train Loss 0.000000 \n",
      "Step 300 Train Loss 0.000000 \n",
      "Step 400 Train Loss 0.000000 \n",
      "Step 500 Train Loss 0.000000 \n",
      "Step 600 Train Loss 0.000000 \n",
      "Step 700 Train Loss 0.000000 \n",
      "Step 800 Train Loss 0.000000 \n",
      "Step 900 Train Loss 0.000000 \n",
      "Step 1000 Train Loss 0.000000 \n",
      "Step 1100 Train Loss 0.000000 \n",
      "Step 1200 Train Loss 0.000000 \n",
      "Step 1300 Train Loss 0.000000 \n",
      "Step 1400 Train Loss 0.000000 \n",
      "Step 1500 Train Loss 0.000000 \n",
      "Step 1600 Train Loss 0.000000 \n",
      "Step 1700 Train Loss 0.000000 \n",
      "Step 1800 Train Loss 0.000000 \n",
      "Step 1900 Train Loss 0.000000 \n",
      "Step 2000 Train Loss 0.000000 \n",
      "Step 2100 Train Loss 0.000000 \n",
      "Step 2200 Train Loss 0.000000 \n",
      "Step 2300 Train Loss 0.000000 \n",
      "Step 2400 Train Loss 0.000000 \n",
      "Step 2500 Train Loss 0.000000 \n",
      "Step 2600 Train Loss 0.000000 \n",
      "Step 2700 Train Loss 0.000000 \n",
      "Step 2800 Train Loss 0.000000 \n",
      "Step 2900 Train Loss 0.000000 \n",
      "Step 3000 Train Loss 0.000000 \n",
      "Step 3100 Train Loss 0.000000 \n",
      "Step 3200 Train Loss 0.000000 \n",
      "Step 3300 Train Loss 0.000000 \n",
      "Step 3400 Train Loss 0.000000 \n",
      "Step 3500 Train Loss 0.000000 \n",
      "Step 3600 Train Loss 0.000000 \n",
      "Step 3700 Train Loss 0.000000 \n",
      "Step 3800 Train Loss 0.000000 \n",
      "Step 3900 Train Loss 0.000000 \n",
      "Step 4000 Train Loss 0.000000 \n",
      "Step 4100 Train Loss 0.000000 \n",
      "Step 4200 Train Loss 0.000000 \n",
      "Step 4300 Train Loss 0.000000 \n",
      "Step 4400 Train Loss 0.000000 \n",
      "Step 4500 Train Loss 0.000000 \n",
      "Step 4600 Train Loss 0.000000 \n",
      "Step 4700 Train Loss 0.000000 \n",
      "Step 4800 Train Loss 0.000000 \n",
      "Step 4900 Train Loss 0.000000 \n",
      "Step 5000 Train Loss 0.000000 \n",
      "Step 5100 Train Loss 0.000000 \n",
      "Step 5200 Train Loss 0.000000 \n",
      "Step 5300 Train Loss 0.000000 \n",
      "Step 5400 Train Loss 0.000000 \n",
      "Step 5500 Train Loss 0.000000 \n",
      "Step 5600 Train Loss 0.000000 \n",
      "Step 5700 Train Loss 0.000000 \n",
      "Step 5800 Train Loss 0.000000 \n",
      "Step 5900 Train Loss 0.000000 \n",
      "Step 6000 Train Loss 0.000000 \n",
      "Step 6100 Train Loss 0.000000 \n",
      "Step 6200 Train Loss 0.000000 \n",
      "Step 6300 Train Loss 0.000000 \n",
      "Step 6400 Train Loss 0.000000 \n",
      "Step 6500 Train Loss 0.000000 \n",
      "Step 6600 Train Loss 0.000000 \n",
      "Step 6700 Train Loss 0.000000 \n",
      "Step 6800 Train Loss 0.000000 \n",
      "Step 6900 Train Loss 0.000000 \n",
      "Step 7000 Train Loss 0.000000 \n",
      "Step 7100 Train Loss 0.000000 \n",
      "Step 7200 Train Loss 0.000000 \n",
      "Step 7300 Train Loss 0.000000 \n",
      "Step 7400 Train Loss 0.000000 \n",
      "Step 7500 Train Loss 0.000000 \n",
      "Step 7600 Train Loss 0.000000 \n",
      "Step 7700 Train Loss 0.000000 \n",
      "Step 7800 Train Loss 0.000000 \n",
      "Step 7900 Train Loss 0.000000 \n",
      "Step 8000 Train Loss 0.000000 \n",
      "Step 8100 Train Loss 0.000000 \n",
      "Step 8200 Train Loss 0.000000 \n",
      "Step 8300 Train Loss 0.000000 \n",
      "Step 8400 Train Loss 0.000000 \n",
      "Step 8500 Train Loss 0.000000 \n",
      "Step 8600 Train Loss 0.000000 \n",
      "Step 8700 Train Loss 0.000000 \n",
      "Step 8800 Train Loss 0.000000 \n",
      "Step 8900 Train Loss 0.000000 \n",
      "Step 9000 Train Loss 0.000000 \n",
      "Step 9100 Train Loss 0.000000 \n",
      "Step 9200 Train Loss 0.000000 \n",
      "Step 9300 Train Loss 0.000000 \n",
      "Step 9400 Train Loss 0.000000 \n",
      "Step 9500 Train Loss 0.000000 \n",
      "Step 9600 Train Loss 0.000000 \n",
      "Step 9700 Train Loss 0.000000 \n",
      "Step 9800 Train Loss 0.000000 \n",
      "Step 9900 Train Loss 0.000000 \n"
     ]
    }
   ],
   "source": [
    "for epoch in range(0, 10000):\n",
    "    err = train_step(model, data_a, data_b)\n",
    "    if epoch % 100 == 0 :\n",
    "        print(\"Step %d Train Loss %f \" % (epoch, err.numpy()))\n"
   ]
  },
  {
   "cell_type": "code",
   "execution_count": 10,
   "metadata": {},
   "outputs": [],
   "source": [
    "grid_size = 10\n",
    "data_test = []\n",
    "for y in np.linspace(0., 1., num=grid_size):\n",
    "    for x in np.linspace(0., 1., num=grid_size):\n",
    "        data_test.append([x, y])"
   ]
  },
  {
   "cell_type": "code",
   "execution_count": 11,
   "metadata": {},
   "outputs": [
    {
     "data": {
      "image/png": "[encoded data removed]",
      "text/plain": [
       "<Figure size 432x288 with 2 Axes>"
      ]
     },
     "metadata": {
      "needs_background": "light"
     },
     "output_type": "display_data"
    }
   ],
   "source": [
    "def visualize_results(data_test):\n",
    "    plt.figure()\n",
    "    scores_test = model.get_embeddings_s1(data_test)\n",
    "    scores_img = np.reshape(scores_test, [grid_size, grid_size])\n",
    "    plt.imshow(scores_img, origin='lower')\n",
    "    plt.colorbar()\n",
    "\n",
    "visualize_results(data_test)"
   ]
  },
  {
   "cell_type": "code",
   "execution_count": null,
   "metadata": {},
   "outputs": [],
   "source": []
  }
 ],
 "metadata": {
  "kernelspec": {
   "display_name": "Python 3",
   "language": "python",
   "name": "python3"
  },
  "language_info": {
   "codemirror_mode": {
    "name": "ipython",
    "version": 3
   },
   "file_extension": ".py",
   "mimetype": "text/x-python",
   "name": "python",
   "nbconvert_exporter": "python",
   "pygments_lexer": "ipython3",
   "version": "3.8.5"
  }
 },
 "nbformat": 4,
 "nbformat_minor": 2
}
