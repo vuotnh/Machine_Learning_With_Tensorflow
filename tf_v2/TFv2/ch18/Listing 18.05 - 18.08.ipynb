{
 "cells": [
  {
   "cell_type": "code",
   "execution_count": 1,
   "metadata": {},
   "outputs": [],
   "source": [
    "import tensorflow as tf"
   ]
  },
  {
   "cell_type": "code",
   "execution_count": 2,
   "metadata": {},
   "outputs": [],
   "source": [
    "embeddings_0d = tf.constant([17, 22, 35, 51])"
   ]
  },
  {
   "cell_type": "code",
   "execution_count": 3,
   "metadata": {},
   "outputs": [],
   "source": [
    "embeddings_4d = tf.constant([[1, 0, 0, 0],\n",
    "                             [0, 1, 0, 0],\n",
    "                             [0, 0, 1, 0],\n",
    "                             [0, 0, 0, 1]])\n"
   ]
  },
  {
   "cell_type": "code",
   "execution_count": 4,
   "metadata": {},
   "outputs": [],
   "source": [
    "embeddings_2x2d = tf.constant([[[1, 0], [0, 0]],\n",
    "                               [[0, 1], [0, 0]],\n",
    "                               [[0, 0], [1, 0]],\n",
    "                               [[0, 0], [0, 1]]])\n"
   ]
  },
  {
   "cell_type": "code",
   "execution_count": 5,
   "metadata": {},
   "outputs": [],
   "source": [
    "ids = tf.constant([1, 0, 2])"
   ]
  },
  {
   "cell_type": "code",
   "execution_count": 6,
   "metadata": {},
   "outputs": [
    {
     "name": "stdout",
     "output_type": "stream",
     "text": [
      "tf.Tensor([22 17 35], shape=(3,), dtype=int32)\n",
      "tf.Tensor(\n",
      "[[0 1 0 0]\n",
      " [1 0 0 0]\n",
      " [0 0 1 0]], shape=(3, 4), dtype=int32)\n",
      "tf.Tensor(\n",
      "[[[0 1]\n",
      "  [0 0]]\n",
      "\n",
      " [[1 0]\n",
      "  [0 0]]\n",
      "\n",
      " [[0 0]\n",
      "  [1 0]]], shape=(3, 2, 2), dtype=int32)\n"
     ]
    }
   ],
   "source": [
    "lookup_0d = tf.nn.embedding_lookup(embeddings_0d, ids)\n",
    "print(lookup_0d)\n",
    "\n",
    "lookup_4d = tf.nn.embedding_lookup(embeddings_4d, ids)\n",
    "print(lookup_4d)\n",
    "\n",
    "lookup_2x2d = tf.nn.embedding_lookup(embeddings_2x2d, ids)\n",
    "print(lookup_2x2d)"
   ]
  },
  {
   "cell_type": "code",
   "execution_count": null,
   "metadata": {},
   "outputs": [],
   "source": []
  }
 ],
 "metadata": {
  "kernelspec": {
   "display_name": "Python 3",
   "language": "python",
   "name": "python3"
  },
  "language_info": {
   "codemirror_mode": {
    "name": "ipython",
    "version": 3
   },
   "file_extension": ".py",
   "mimetype": "text/x-python",
   "name": "python",
   "nbconvert_exporter": "python",
   "pygments_lexer": "ipython3",
   "version": "3.8.5"
  }
 },
 "nbformat": 4,
 "nbformat_minor": 2
}
