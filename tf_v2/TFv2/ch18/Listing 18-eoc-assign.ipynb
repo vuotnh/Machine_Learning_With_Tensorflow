{
 "cells": [
  {
   "cell_type": "code",
   "execution_count": 1,
   "metadata": {},
   "outputs": [],
   "source": [
    "# Example from NMT Seq2Seq on Tensorflow website\n",
    "# https://www.tensorflow.org/tutorials/text/nmt_with_attention"
   ]
  },
  {
   "cell_type": "code",
   "execution_count": 2,
   "metadata": {},
   "outputs": [],
   "source": [
    "import tensorflow as tf\n",
    "import numpy as np\n",
    "import matplotlib.pyplot as plt\n",
    "import matplotlib.ticker as ticker\n",
    "import os\n",
    "import re\n",
    "import io\n",
    "import unicodedata\n",
    "from sklearn.model_selection import train_test_split\n",
    "import time"
   ]
  },
  {
   "cell_type": "code",
   "execution_count": 3,
   "metadata": {},
   "outputs": [],
   "source": [
    "input_path = '../data/seq2seq/data/words_input.txt'\n",
    "output_path = '../data/seq2seq/data/words_output.txt'"
   ]
  },
  {
   "cell_type": "code",
   "execution_count": 4,
   "metadata": {},
   "outputs": [],
   "source": [
    "# Converts the unicode file to ascii\n",
    "def unicode_to_ascii(s):\n",
    "    return ''.join(c for c in unicodedata.normalize('NFD', s) if unicodedata.category(c) != 'Mn')"
   ]
  },
  {
   "cell_type": "code",
   "execution_count": 5,
   "metadata": {},
   "outputs": [],
   "source": [
    "def preprocess_sentence(w):\n",
    "    w = unicode_to_ascii(w.lower().strip())\n",
    "    \n",
    "    # creating a space between a word and the punctuation following it\n",
    "    # eg: \"he is a boy.\" => \"he is a boy .\"\n",
    "    # Reference:- https://stackoverflow.com/questions/3645931/python-padding-punctuation-with-white-spaces-keeping-punctuation\n",
    "    w = re.sub(r\"([?.!,¿])\", r\" \\1 \", w)\n",
    "    w = re.sub(r'[\" \"]+', \" \", w)\n",
    "\n",
    "    # replacing everything with space except (a-z, A-Z, \".\", \"?\", \"!\", \",\")\n",
    "    w = re.sub(r\"[^a-zA-Z?.!,¿]+\", \" \", w)\n",
    "\n",
    "    w = w.strip()\n",
    "\n",
    "    # adding a start and an end token to the sentence\n",
    "    # so that the model know when to start and stop predicting.\n",
    "    w = '<start> ' + w + ' <end>'\n",
    "    return w"
   ]
  },
  {
   "cell_type": "code",
   "execution_count": 6,
   "metadata": {},
   "outputs": [],
   "source": [
    "# 1. Remove the accents\n",
    "# 2. Clean the sentences\n",
    "# 3. Return word pairs in the format: [INPUT, OUTPUT]\n",
    "def create_dataset(input_path, output_path, num_examples):\n",
    "    lines_i = io.open(input_path, encoding='UTF-8').read().strip().split('\\n')\n",
    "    lines_o = io.open(output_path, encoding='UTF-8').read().strip().split('\\n')\n",
    "    \n",
    "    print(len(lines_i))\n",
    "    print(len(lines_o))\n",
    "    \n",
    "    assert len(lines_i) == len(lines_o)\n",
    "    \n",
    "    total_lines = len(lines_i) if num_examples == None else num_examples\n",
    "    word_pairs = []\n",
    "    \n",
    "    for l in range(0, total_lines):    \n",
    "        i_w = preprocess_sentence(lines_i[l])\n",
    "        o_w = preprocess_sentence(lines_o[l])\n",
    "        \n",
    "        line_wp = []\n",
    "        line_wp.append(i_w)\n",
    "        line_wp.append(o_w)\n",
    "        \n",
    "        word_pairs.append(line_wp)\n",
    "        \n",
    "    return zip(*word_pairs)"
   ]
  },
  {
   "cell_type": "code",
   "execution_count": 7,
   "metadata": {},
   "outputs": [
    {
     "name": "stdout",
     "output_type": "stream",
     "text": [
      "221426\n",
      "221426\n"
     ]
    }
   ],
   "source": [
    "inputs, outputs = create_dataset(input_path, output_path, None)"
   ]
  },
  {
   "cell_type": "code",
   "execution_count": 8,
   "metadata": {},
   "outputs": [
    {
     "name": "stdout",
     "output_type": "stream",
     "text": [
      "<start> and i assure you , you do not in fact i d be obliged for your best advice . what have your scouts seen ? <end>\n",
      "<start> so far only their scouts . but we have had reports of a small impi farther north , over there . <end>\n"
     ]
    }
   ],
   "source": [
    "print(inputs[-1])\n",
    "print(outputs[-1])"
   ]
  },
  {
   "cell_type": "code",
   "execution_count": 10,
   "metadata": {},
   "outputs": [],
   "source": [
    "#max_vocab_size = 250\n",
    "max_vocab_size = None"
   ]
  },
  {
   "cell_type": "code",
   "execution_count": 11,
   "metadata": {},
   "outputs": [],
   "source": [
    "def tokenize(lang, max_vocab=None):\n",
    "    if max_vocab != None:\n",
    "        lang_tokenizer = tf.keras.preprocessing.text.Tokenizer(\n",
    "          filters='', num_words=max_vocab)\n",
    "    else:\n",
    "        lang_tokenizer = tf.keras.preprocessing.text.Tokenizer(\n",
    "          filters='')        \n",
    "    \n",
    "    lang_tokenizer.fit_on_texts(lang)\n",
    "    tensor = lang_tokenizer.texts_to_sequences(lang)\n",
    "    tensor = tf.keras.preprocessing.sequence.pad_sequences(tensor,\n",
    "                                                         padding='post')\n",
    "    \n",
    "    return tensor, lang_tokenizer"
   ]
  },
  {
   "cell_type": "code",
   "execution_count": 14,
   "metadata": {},
   "outputs": [],
   "source": [
    "def load_dataset(input_path, output_path, num_examples=None):\n",
    "    \n",
    "  # creating cleaned input, output pairs\n",
    "  inputs, outputs = create_dataset(input_path, output_path, num_examples)\n",
    "  input_tensor, inp_lang_tokenizer = tokenize(inputs, max_vocab_size)\n",
    "  target_tensor, targ_lang_tokenizer = tokenize(outputs, max_vocab_size)\n",
    "\n",
    "  return input_tensor, target_tensor, inp_lang_tokenizer, targ_lang_tokenizer"
   ]
  },
  {
   "cell_type": "code",
   "execution_count": 15,
   "metadata": {},
   "outputs": [
    {
     "name": "stdout",
     "output_type": "stream",
     "text": [
      "221426\n",
      "221426\n"
     ]
    }
   ],
   "source": [
    "# Try experimenting with the size of that dataset\n",
    "#num_examples = 30000\n",
    "num_examples = 1400\n",
    "input_tensor, target_tensor, inp_lang, targ_lang = load_dataset(input_path, output_path, num_examples)\n",
    "\n",
    "# Calculate max_length of the target tensors\n",
    "max_length_targ, max_length_inp = target_tensor.shape[1], input_tensor.shape[1]"
   ]
  },
  {
   "cell_type": "code",
   "execution_count": 16,
   "metadata": {},
   "outputs": [
    {
     "name": "stdout",
     "output_type": "stream",
     "text": [
      "1120 1120 280 280\n"
     ]
    }
   ],
   "source": [
    "# Creating training and validation sets using an 80-20 split\n",
    "input_tensor_train, input_tensor_val, target_tensor_train, target_tensor_val = train_test_split(input_tensor, target_tensor, test_size=0.2)\n",
    "\n",
    "# Show length\n",
    "print(len(input_tensor_train), len(target_tensor_train), len(input_tensor_val), len(target_tensor_val))"
   ]
  },
  {
   "cell_type": "code",
   "execution_count": 17,
   "metadata": {},
   "outputs": [],
   "source": [
    "def convert(lang, tensor):\n",
    "    for t in tensor:\n",
    "        if t!=0:\n",
    "            print (\"%d ----> %s\" % (t, lang.index_word[t]))"
   ]
  },
  {
   "cell_type": "code",
   "execution_count": 18,
   "metadata": {},
   "outputs": [
    {
     "name": "stdout",
     "output_type": "stream",
     "text": [
      "Input Language; index to word mapping\n",
      "2 ----> <start>\n",
      "31 ----> not\n",
      "9 ----> the\n",
      "972 ----> hacking\n",
      "17 ----> and\n",
      "973 ----> gagging\n",
      "17 ----> and\n",
      "974 ----> spitting\n",
      "381 ----> part\n",
      "1 ----> .\n",
      "227 ----> please\n",
      "1 ----> .\n",
      "3 ----> <end>\n",
      "\n",
      "Target Language; index to word mapping\n",
      "2 ----> <start>\n",
      "84 ----> okay\n",
      "1 ----> .\n",
      "1 ----> .\n",
      "1 ----> .\n",
      "83 ----> then\n",
      "60 ----> how\n",
      "638 ----> bout\n",
      "19 ----> we\n",
      "271 ----> try\n",
      "45 ----> out\n",
      "102 ----> some\n",
      "639 ----> french\n",
      "977 ----> cuisine\n",
      "1 ----> .\n",
      "640 ----> saturday\n",
      "7 ----> ?\n",
      "272 ----> night\n",
      "7 ----> ?\n",
      "3 ----> <end>\n"
     ]
    }
   ],
   "source": [
    "print (\"Input Language; index to word mapping\")\n",
    "convert(inp_lang, input_tensor_train[0])\n",
    "print ()\n",
    "print (\"Target Language; index to word mapping\")\n",
    "convert(targ_lang, target_tensor_train[0])"
   ]
  },
  {
   "cell_type": "code",
   "execution_count": 19,
   "metadata": {},
   "outputs": [],
   "source": [
    "BUFFER_SIZE = len(input_tensor_train)\n",
    "#BATCH_SIZE = 64\n",
    "#BATCH_SIZE=10\n",
    "#BATCH_SIZE=10 worked with 1000 samples\n",
    "BATCH_SIZE = 5\n",
    "steps_per_epoch = len(input_tensor_train)//BATCH_SIZE\n",
    "embedding_dim = 256\n",
    "units = 1024\n",
    "vocab_inp_size = len(inp_lang.word_index)+1\n",
    "vocab_tar_size = len(targ_lang.word_index)+1\n",
    "\n",
    "dataset = tf.data.Dataset.from_tensor_slices((input_tensor_train, target_tensor_train)).shuffle(BUFFER_SIZE)\n",
    "dataset = dataset.batch(BATCH_SIZE, drop_remainder=True)"
   ]
  },
  {
   "cell_type": "code",
   "execution_count": 20,
   "metadata": {},
   "outputs": [
    {
     "name": "stdout",
     "output_type": "stream",
     "text": [
      "Steps per epoch 224\n",
      "Vocab input size 2235 Vocab target size 2209\n"
     ]
    }
   ],
   "source": [
    "print('Steps per epoch {}'.format(steps_per_epoch))\n",
    "print('Vocab input size {} Vocab target size {}'.format(vocab_inp_size, vocab_tar_size))"
   ]
  },
  {
   "cell_type": "code",
   "execution_count": 21,
   "metadata": {},
   "outputs": [
    {
     "data": {
      "text/plain": [
       "(TensorShape([5, 119]), TensorShape([5, 147]))"
      ]
     },
     "execution_count": 21,
     "metadata": {},
     "output_type": "execute_result"
    }
   ],
   "source": [
    "example_input_batch, example_target_batch = next(iter(dataset))\n",
    "example_input_batch.shape, example_target_batch.shape"
   ]
  },
  {
   "cell_type": "code",
   "execution_count": 22,
   "metadata": {},
   "outputs": [],
   "source": [
    "class Encoder(tf.keras.Model):\n",
    "    def __init__(self, vocab_size, embedding_dim, enc_units, batch_sz):\n",
    "        super(Encoder, self).__init__()\n",
    "        self.batch_sz = batch_sz\n",
    "        self.enc_units = enc_units\n",
    "        self.embedding = tf.keras.layers.Embedding(vocab_size, embedding_dim)\n",
    "        self.gru = tf.keras.layers.GRU(self.enc_units,\n",
    "                                       return_sequences=True,\n",
    "                                       return_state=True,\n",
    "                                       recurrent_initializer='glorot_uniform')\n",
    "\n",
    "    def call(self, x, hidden):\n",
    "        x = self.embedding(x)\n",
    "        output, state = self.gru(x, initial_state = hidden)\n",
    "        return output, state\n",
    "\n",
    "    def initialize_hidden_state(self):\n",
    "        return tf.zeros((self.batch_sz, self.enc_units))"
   ]
  },
  {
   "cell_type": "code",
   "execution_count": 23,
   "metadata": {},
   "outputs": [
    {
     "name": "stdout",
     "output_type": "stream",
     "text": [
      "Encoder output shape: (batch size, sequence length, units) (5, 119, 1024)\n",
      "Encoder Hidden state shape: (batch size, units) (5, 1024)\n"
     ]
    }
   ],
   "source": [
    "encoder = Encoder(vocab_inp_size, embedding_dim, units, BATCH_SIZE)\n",
    "\n",
    "# sample input\n",
    "sample_hidden = encoder.initialize_hidden_state()\n",
    "sample_output, sample_hidden = encoder(example_input_batch, sample_hidden)\n",
    "print ('Encoder output shape: (batch size, sequence length, units) {}'.format(sample_output.shape))\n",
    "print ('Encoder Hidden state shape: (batch size, units) {}'.format(sample_hidden.shape))"
   ]
  },
  {
   "cell_type": "code",
   "execution_count": 24,
   "metadata": {},
   "outputs": [],
   "source": [
    "class BahdanauAttention(tf.keras.layers.Layer):\n",
    "    \n",
    "    def __init__(self, units):\n",
    "        super(BahdanauAttention, self).__init__()\n",
    "        self.W1 = tf.keras.layers.Dense(units)\n",
    "        self.W2 = tf.keras.layers.Dense(units)\n",
    "        self.V = tf.keras.layers.Dense(1)\n",
    "\n",
    "    def call(self, query, values):\n",
    "        # query hidden state shape == (batch_size, hidden size)\n",
    "        # query_with_time_axis shape == (batch_size, 1, hidden size)\n",
    "        # values shape == (batch_size, max_len, hidden size)\n",
    "        # we are doing this to broadcast addition along the time axis to calculate the score\n",
    "        query_with_time_axis = tf.expand_dims(query, 1)\n",
    "\n",
    "        # score shape == (batch_size, max_length, 1)\n",
    "        # we get 1 at the last axis because we are applying score to self.V\n",
    "        # the shape of the tensor before applying self.V is (batch_size, max_length, units)\n",
    "        score = self.V(tf.nn.tanh(\n",
    "            self.W1(query_with_time_axis) + self.W2(values)))\n",
    "\n",
    "        # attention_weights shape == (batch_size, max_length, 1)\n",
    "        attention_weights = tf.nn.softmax(score, axis=1)\n",
    "\n",
    "        # context_vector shape after sum == (batch_size, hidden_size)\n",
    "        context_vector = attention_weights * values\n",
    "        context_vector = tf.reduce_sum(context_vector, axis=1)\n",
    "\n",
    "        return context_vector, attention_weights"
   ]
  },
  {
   "cell_type": "code",
   "execution_count": 25,
   "metadata": {},
   "outputs": [
    {
     "name": "stdout",
     "output_type": "stream",
     "text": [
      "Attention result shape: (batch size, units) (5, 1024)\n",
      "Attention weights shape: (batch_size, sequence_length, 1) (5, 119, 1)\n"
     ]
    }
   ],
   "source": [
    "attention_layer = BahdanauAttention(10)\n",
    "attention_result, attention_weights = attention_layer(sample_hidden, sample_output)\n",
    "\n",
    "print(\"Attention result shape: (batch size, units) {}\".format(attention_result.shape))\n",
    "print(\"Attention weights shape: (batch_size, sequence_length, 1) {}\".format(attention_weights.shape))"
   ]
  },
  {
   "cell_type": "code",
   "execution_count": 26,
   "metadata": {},
   "outputs": [],
   "source": [
    "class Decoder(tf.keras.Model):\n",
    "    \n",
    "    def __init__(self, vocab_size, embedding_dim, dec_units, batch_sz):\n",
    "        super(Decoder, self).__init__()\n",
    "        self.batch_sz = batch_sz\n",
    "        self.dec_units = dec_units\n",
    "        self.embedding = tf.keras.layers.Embedding(vocab_size, embedding_dim)\n",
    "        self.gru = tf.keras.layers.GRU(self.dec_units,\n",
    "                                       return_sequences=True,\n",
    "                                       return_state=True,\n",
    "                                       recurrent_initializer='glorot_uniform')\n",
    "        self.fc = tf.keras.layers.Dense(vocab_size)\n",
    "\n",
    "        # used for attention\n",
    "        self.attention = BahdanauAttention(self.dec_units)\n",
    "\n",
    "\n",
    "    def call(self, x, hidden, enc_output):\n",
    "        # enc_output shape == (batch_size, max_length, hidden_size)\n",
    "        context_vector, attention_weights = self.attention(hidden, enc_output)\n",
    "\n",
    "        # x shape after passing through embedding == (batch_size, 1, embedding_dim)\n",
    "        x = self.embedding(x)\n",
    "\n",
    "        # x shape after concatenation == (batch_size, 1, embedding_dim + hidden_size)\n",
    "        x = tf.concat([tf.expand_dims(context_vector, 1), x], axis=-1)\n",
    "\n",
    "        # passing the concatenated vector to the GRU\n",
    "        output, state = self.gru(x)\n",
    "\n",
    "        # output shape == (batch_size * 1, hidden_size)\n",
    "        output = tf.reshape(output, (-1, output.shape[2]))\n",
    "\n",
    "        # output shape == (batch_size, vocab)\n",
    "        x = self.fc(output)\n",
    "\n",
    "        return x, state, attention_weights"
   ]
  },
  {
   "cell_type": "code",
   "execution_count": 27,
   "metadata": {},
   "outputs": [
    {
     "name": "stdout",
     "output_type": "stream",
     "text": [
      "Decoder output shape: (batch_size, vocab size) (5, 2209)\n"
     ]
    }
   ],
   "source": [
    "decoder = Decoder(vocab_tar_size, embedding_dim, units, BATCH_SIZE)\n",
    "\n",
    "sample_decoder_output, _, _ = decoder(tf.random.uniform((BATCH_SIZE, 1)),\n",
    "                                      sample_hidden, sample_output)\n",
    "\n",
    "print ('Decoder output shape: (batch_size, vocab size) {}'.format(sample_decoder_output.shape))"
   ]
  },
  {
   "cell_type": "code",
   "execution_count": 28,
   "metadata": {},
   "outputs": [],
   "source": [
    "optimizer = tf.keras.optimizers.Adam()\n",
    "loss_object = tf.keras.losses.SparseCategoricalCrossentropy(\n",
    "    from_logits=True, reduction='none')"
   ]
  },
  {
   "cell_type": "code",
   "execution_count": 29,
   "metadata": {},
   "outputs": [],
   "source": [
    "def loss_function(real, pred):\n",
    "    mask = tf.math.logical_not(tf.math.equal(real, 0))\n",
    "    loss_ = loss_object(real, pred)\n",
    "\n",
    "    mask = tf.cast(mask, dtype=loss_.dtype)\n",
    "    loss_ *= mask\n",
    "\n",
    "    return tf.reduce_mean(loss_)"
   ]
  },
  {
   "cell_type": "code",
   "execution_count": 30,
   "metadata": {},
   "outputs": [],
   "source": [
    "checkpoint_dir = '../models/seq2seq-model'\n",
    "checkpoint_prefix = os.path.join(checkpoint_dir, \"ckpt\")\n",
    "checkpoint = tf.train.Checkpoint(optimizer=optimizer,\n",
    "                                 encoder=encoder,\n",
    "                                 decoder=decoder)"
   ]
  },
  {
   "cell_type": "code",
   "execution_count": 31,
   "metadata": {},
   "outputs": [],
   "source": [
    "@tf.function\n",
    "def train_step(inp, targ, enc_hidden):\n",
    "    \n",
    "    loss = 0\n",
    "\n",
    "    with tf.GradientTape() as tape:\n",
    "        enc_output, enc_hidden = encoder(inp, enc_hidden)\n",
    "\n",
    "        dec_hidden = enc_hidden\n",
    "\n",
    "        dec_input = tf.expand_dims([targ_lang.word_index['<start>']] * BATCH_SIZE, 1)\n",
    "\n",
    "        # Teacher forcing - feeding the target as the next input\n",
    "        for t in range(1, targ.shape[1]):\n",
    "          # passing enc_output to the decoder\n",
    "          predictions, dec_hidden, _ = decoder(dec_input, dec_hidden, enc_output)\n",
    "          \n",
    "          loss += loss_function(targ[:, t], predictions)\n",
    "\n",
    "          # using teacher forcing\n",
    "          dec_input = tf.expand_dims(targ[:, t], 1)\n",
    "\n",
    "    batch_loss = (loss / int(targ.shape[1]))\n",
    "    variables = encoder.trainable_variables + decoder.trainable_variables\n",
    "    gradients = tape.gradient(loss, variables)\n",
    "    optimizer.apply_gradients(zip(gradients, variables))\n",
    "\n",
    "    return batch_loss"
   ]
  },
  {
   "cell_type": "code",
   "execution_count": 32,
   "metadata": {
    "scrolled": true
   },
   "outputs": [
    {
     "name": "stdout",
     "output_type": "stream",
     "text": [
      "Epoch 1 Batch 0 Loss 0.6287\n",
      "Epoch 1 Batch 20 Loss 0.5139\n",
      "Epoch 1 Batch 40 Loss 0.4208\n",
      "Epoch 1 Batch 60 Loss 0.1862\n",
      "Epoch 1 Batch 80 Loss 0.3806\n",
      "Epoch 1 Batch 100 Loss 0.4914\n",
      "Epoch 1 Batch 120 Loss 0.3710\n",
      "Epoch 1 Batch 140 Loss 0.2820\n",
      "Epoch 1 Batch 160 Loss 0.7681\n",
      "Epoch 1 Batch 180 Loss 0.4344\n",
      "Epoch 1 Batch 200 Loss 0.4360\n",
      "Epoch 1 Batch 220 Loss 0.3183\n",
      "Epoch 1 Loss 0.4984\n",
      "Time taken for 1 epoch 228.18208742141724 sec\n",
      "\n",
      "Epoch 2 Batch 0 Loss 0.5336\n",
      "Epoch 2 Batch 20 Loss 0.4164\n",
      "Epoch 2 Batch 40 Loss 0.5444\n",
      "Epoch 2 Batch 60 Loss 0.2747\n",
      "Epoch 2 Batch 80 Loss 0.3281\n",
      "Epoch 2 Batch 100 Loss 0.3446\n",
      "Epoch 2 Batch 120 Loss 0.2106\n",
      "Epoch 2 Batch 140 Loss 0.4965\n",
      "Epoch 2 Batch 160 Loss 0.3788\n",
      "Epoch 2 Batch 180 Loss 0.2005\n",
      "Epoch 2 Batch 200 Loss 0.4536\n",
      "Epoch 2 Batch 220 Loss 0.3597\n",
      "Epoch 2 Loss 0.4368\n",
      "Time taken for 1 epoch 121.18705725669861 sec\n",
      "\n",
      "Epoch 3 Batch 0 Loss 0.4173\n",
      "Epoch 3 Batch 20 Loss 0.2329\n",
      "Epoch 3 Batch 40 Loss 0.3918\n",
      "Epoch 3 Batch 60 Loss 0.2171\n",
      "Epoch 3 Batch 80 Loss 0.6873\n",
      "Epoch 3 Batch 100 Loss 0.2718\n",
      "Epoch 3 Batch 120 Loss 0.5873\n",
      "Epoch 3 Batch 140 Loss 0.4618\n",
      "Epoch 3 Batch 160 Loss 0.3988\n",
      "Epoch 3 Batch 180 Loss 0.3693\n",
      "Epoch 3 Batch 200 Loss 0.5912\n",
      "Epoch 3 Batch 220 Loss 0.3740\n",
      "Epoch 3 Loss 0.4066\n",
      "Time taken for 1 epoch 122.75899577140808 sec\n",
      "\n",
      "Epoch 4 Batch 0 Loss 0.5296\n",
      "Epoch 4 Batch 20 Loss 0.2658\n",
      "Epoch 4 Batch 40 Loss 0.2491\n",
      "Epoch 4 Batch 60 Loss 0.5475\n",
      "Epoch 4 Batch 80 Loss 0.3909\n",
      "Epoch 4 Batch 100 Loss 0.3586\n",
      "Epoch 4 Batch 120 Loss 0.4325\n",
      "Epoch 4 Batch 140 Loss 0.5077\n",
      "Epoch 4 Batch 160 Loss 0.5492\n",
      "Epoch 4 Batch 180 Loss 0.2471\n",
      "Epoch 4 Batch 200 Loss 0.3370\n",
      "Epoch 4 Batch 220 Loss 0.2066\n",
      "Epoch 4 Loss 0.3806\n",
      "Time taken for 1 epoch 122.84664511680603 sec\n",
      "\n",
      "Epoch 5 Batch 0 Loss 0.1651\n",
      "Epoch 5 Batch 20 Loss 0.1778\n",
      "Epoch 5 Batch 40 Loss 0.3996\n",
      "Epoch 5 Batch 60 Loss 0.3844\n",
      "Epoch 5 Batch 80 Loss 0.7988\n",
      "Epoch 5 Batch 100 Loss 0.6033\n",
      "Epoch 5 Batch 120 Loss 0.1783\n",
      "Epoch 5 Batch 140 Loss 0.2387\n",
      "Epoch 5 Batch 160 Loss 0.3645\n",
      "Epoch 5 Batch 180 Loss 0.1414\n",
      "Epoch 5 Batch 200 Loss 0.2032\n",
      "Epoch 5 Batch 220 Loss 0.6368\n",
      "Epoch 5 Loss 0.3565\n",
      "Time taken for 1 epoch 122.84789872169495 sec\n",
      "\n",
      "Epoch 6 Batch 0 Loss 0.2658\n",
      "Epoch 6 Batch 20 Loss 0.4463\n",
      "Epoch 6 Batch 40 Loss 0.4404\n",
      "Epoch 6 Batch 60 Loss 0.3958\n",
      "Epoch 6 Batch 80 Loss 0.3891\n",
      "Epoch 6 Batch 100 Loss 0.2456\n",
      "Epoch 6 Batch 120 Loss 0.1728\n",
      "Epoch 6 Batch 140 Loss 0.2587\n",
      "Epoch 6 Batch 160 Loss 0.2942\n",
      "Epoch 6 Batch 180 Loss 0.2980\n",
      "Epoch 6 Batch 200 Loss 0.3470\n",
      "Epoch 6 Batch 220 Loss 0.1966\n",
      "Epoch 6 Loss 0.3356\n",
      "Time taken for 1 epoch 123.74408221244812 sec\n",
      "\n",
      "Epoch 7 Batch 0 Loss 0.1614\n",
      "Epoch 7 Batch 20 Loss 0.5002\n",
      "Epoch 7 Batch 40 Loss 0.2695\n",
      "Epoch 7 Batch 60 Loss 0.2075\n",
      "Epoch 7 Batch 80 Loss 0.3256\n",
      "Epoch 7 Batch 100 Loss 0.2727\n",
      "Epoch 7 Batch 120 Loss 0.5099\n",
      "Epoch 7 Batch 140 Loss 0.3139\n",
      "Epoch 7 Batch 160 Loss 0.4171\n",
      "Epoch 7 Batch 180 Loss 0.2958\n",
      "Epoch 7 Batch 200 Loss 0.3814\n",
      "Epoch 7 Batch 220 Loss 0.3288\n",
      "Epoch 7 Loss 0.3129\n",
      "Time taken for 1 epoch 121.83834075927734 sec\n",
      "\n",
      "Epoch 8 Batch 0 Loss 0.1670\n",
      "Epoch 8 Batch 20 Loss 0.2173\n",
      "Epoch 8 Batch 40 Loss 0.4693\n",
      "Epoch 8 Batch 60 Loss 0.2388\n",
      "Epoch 8 Batch 80 Loss 0.2291\n",
      "Epoch 8 Batch 100 Loss 0.2281\n",
      "Epoch 8 Batch 120 Loss 0.3369\n",
      "Epoch 8 Batch 140 Loss 0.2229\n",
      "Epoch 8 Batch 160 Loss 0.7377\n",
      "Epoch 8 Batch 180 Loss 0.2219\n",
      "Epoch 8 Batch 200 Loss 0.1919\n",
      "Epoch 8 Batch 220 Loss 0.4647\n",
      "Epoch 8 Loss 0.2901\n",
      "Time taken for 1 epoch 122.58503818511963 sec\n",
      "\n",
      "Epoch 9 Batch 0 Loss 0.3622\n",
      "Epoch 9 Batch 20 Loss 0.3049\n",
      "Epoch 9 Batch 40 Loss 0.3663\n",
      "Epoch 9 Batch 60 Loss 0.1680\n",
      "Epoch 9 Batch 80 Loss 0.2841\n",
      "Epoch 9 Batch 100 Loss 0.2968\n",
      "Epoch 9 Batch 120 Loss 0.2588\n",
      "Epoch 9 Batch 140 Loss 0.1314\n",
      "Epoch 9 Batch 160 Loss 0.1146\n",
      "Epoch 9 Batch 180 Loss 0.2120\n",
      "Epoch 9 Batch 200 Loss 0.2770\n",
      "Epoch 9 Batch 220 Loss 0.2142\n",
      "Epoch 9 Loss 0.2634\n",
      "Time taken for 1 epoch 121.66425728797913 sec\n",
      "\n",
      "Epoch 10 Batch 0 Loss 0.3010\n",
      "Epoch 10 Batch 20 Loss 0.1102\n",
      "Epoch 10 Batch 40 Loss 0.1975\n",
      "Epoch 10 Batch 60 Loss 0.1867\n",
      "Epoch 10 Batch 80 Loss 0.1524\n",
      "Epoch 10 Batch 100 Loss 0.2117\n",
      "Epoch 10 Batch 120 Loss 0.1777\n",
      "Epoch 10 Batch 140 Loss 0.2707\n",
      "Epoch 10 Batch 160 Loss 0.1223\n",
      "Epoch 10 Batch 180 Loss 0.1026\n",
      "Epoch 10 Batch 200 Loss 0.1637\n",
      "Epoch 10 Batch 220 Loss 0.1689\n",
      "Epoch 10 Loss 0.2334\n",
      "Time taken for 1 epoch 122.46473693847656 sec\n",
      "\n"
     ]
    }
   ],
   "source": [
    "EPOCHS = 10\n",
    "\n",
    "for epoch in range(EPOCHS):\n",
    "  start = time.time()\n",
    "\n",
    "  enc_hidden = encoder.initialize_hidden_state()\n",
    "  total_loss = 0\n",
    "\n",
    "  for (batch, (inp, targ)) in enumerate(dataset.take(steps_per_epoch)):\n",
    "    batch_loss = train_step(inp, targ, enc_hidden)\n",
    "    total_loss += batch_loss\n",
    "\n",
    "    if batch % 20 == 0:\n",
    "        print('Epoch {} Batch {} Loss {:.4f}'.format(epoch + 1,\n",
    "                                                   batch,\n",
    "                                                   batch_loss.numpy()))\n",
    "  # saving (checkpoint) the model every 2 epochs\n",
    "  if (epoch + 1) % 2 == 0:\n",
    "    checkpoint.save(file_prefix = checkpoint_prefix)\n",
    "\n",
    "  print('Epoch {} Loss {:.4f}'.format(epoch + 1,\n",
    "                                      total_loss / steps_per_epoch))\n",
    "  print('Time taken for 1 epoch {} sec\\n'.format(time.time() - start))"
   ]
  },
  {
   "cell_type": "code",
   "execution_count": 33,
   "metadata": {},
   "outputs": [],
   "source": [
    "def evaluate(sentence):\n",
    "  attention_plot = np.zeros((max_length_targ, max_length_inp))\n",
    "\n",
    "  sentence = preprocess_sentence(sentence)\n",
    "\n",
    "  inputs = [inp_lang.word_index[i] for i in sentence.split(' ')]\n",
    "  inputs = tf.keras.preprocessing.sequence.pad_sequences([inputs],\n",
    "                                                         maxlen=max_length_inp,\n",
    "                                                         padding='post')\n",
    "  inputs = tf.convert_to_tensor(inputs)\n",
    "\n",
    "  result = ''\n",
    "\n",
    "  hidden = [tf.zeros((1, units))]\n",
    "  enc_out, enc_hidden = encoder(inputs, hidden)\n",
    "\n",
    "  dec_hidden = enc_hidden\n",
    "  dec_input = tf.expand_dims([targ_lang.word_index['<start>']], 0)\n",
    "\n",
    "  for t in range(max_length_targ):\n",
    "    predictions, dec_hidden, attention_weights = decoder(dec_input,\n",
    "                                                         dec_hidden,\n",
    "                                                         enc_out)\n",
    "\n",
    "    # storing the attention weights to plot later on\n",
    "    attention_weights = tf.reshape(attention_weights, (-1, ))\n",
    "    attention_plot[t] = attention_weights.numpy()\n",
    "\n",
    "    predicted_id = tf.argmax(predictions[0]).numpy()\n",
    "\n",
    "    result += targ_lang.index_word[predicted_id] + ' '\n",
    "\n",
    "    if targ_lang.index_word[predicted_id] == '<end>':\n",
    "      return result, sentence, attention_plot\n",
    "\n",
    "    # the predicted ID is fed back into the model\n",
    "    dec_input = tf.expand_dims([predicted_id], 0)\n",
    "\n",
    "  return result, sentence, attention_plot"
   ]
  },
  {
   "cell_type": "code",
   "execution_count": 34,
   "metadata": {},
   "outputs": [],
   "source": [
    "# function for plotting the attention weights\n",
    "def plot_attention(attention, sentence, predicted_sentence):\n",
    "  fig = plt.figure(figsize=(10,10))\n",
    "  ax = fig.add_subplot(1, 1, 1)\n",
    "  ax.matshow(attention, cmap='viridis')\n",
    "\n",
    "  fontdict = {'fontsize': 14}\n",
    "\n",
    "  ax.set_xticklabels([''] + sentence, fontdict=fontdict, rotation=90)\n",
    "  ax.set_yticklabels([''] + predicted_sentence, fontdict=fontdict)\n",
    "\n",
    "  ax.xaxis.set_major_locator(ticker.MultipleLocator(1))\n",
    "  ax.yaxis.set_major_locator(ticker.MultipleLocator(1))\n",
    "\n",
    "  plt.show()"
   ]
  },
  {
   "cell_type": "code",
   "execution_count": 35,
   "metadata": {},
   "outputs": [],
   "source": [
    "def translate(sentence):\n",
    "  result, sentence, attention_plot = evaluate(sentence)\n",
    "\n",
    "  print('Input: %s' % (sentence))\n",
    "  print('Predicted translation: {}'.format(result))\n",
    "\n",
    "  attention_plot = attention_plot[:len(result.split(' ')), :len(sentence.split(' '))]\n",
    "  plot_attention(attention_plot, sentence.split(' '), result.split(' '))"
   ]
  },
  {
   "cell_type": "code",
   "execution_count": 36,
   "metadata": {},
   "outputs": [
    {
     "data": {
      "text/plain": [
       "<tensorflow.python.training.tracking.util.CheckpointLoadStatus at 0x7f1c058228d0>"
      ]
     },
     "execution_count": 36,
     "metadata": {},
     "output_type": "execute_result"
    }
   ],
   "source": [
    "# restoring the latest checkpoint in checkpoint_dir\n",
    "checkpoint.restore(tf.train.latest_checkpoint(checkpoint_dir))"
   ]
  },
  {
   "cell_type": "code",
   "execution_count": 40,
   "metadata": {
    "scrolled": true
   },
   "outputs": [
    {
     "name": "stdout",
     "output_type": "stream",
     "text": [
      "Input: <start> remember that time we met up ? <end>\n",
      "Predicted translation: you re suspended until you . <end> \n"
     ]
    },
    {
     "name": "stderr",
     "output_type": "stream",
     "text": [
      "/home/mattmann/anaconda3/envs/tensorflow/lib/python3.6/site-packages/ipykernel_launcher.py:9: UserWarning: FixedFormatter should only be used together with FixedLocator\n",
      "  if __name__ == '__main__':\n",
      "/home/mattmann/anaconda3/envs/tensorflow/lib/python3.6/site-packages/ipykernel_launcher.py:10: UserWarning: FixedFormatter should only be used together with FixedLocator\n",
      "  # Remove the CWD from sys.path while we load stuff.\n"
     ]
    },
    {
     "data": {
      "image/png": "[encoded data removed]",
      "text/plain": [
       "<Figure size 720x720 with 1 Axes>"
      ]
     },
     "metadata": {
      "needs_background": "light"
     },
     "output_type": "display_data"
    }
   ],
   "source": [
    "translate(u'Remember that time we met up?')"
   ]
  },
  {
   "cell_type": "code",
   "execution_count": null,
   "metadata": {},
   "outputs": [],
   "source": []
  }
 ],
 "metadata": {
  "kernelspec": {
   "display_name": "Python 3",
   "language": "python",
   "name": "python3"
  },
  "language_info": {
   "codemirror_mode": {
    "name": "ipython",
    "version": 3
   },
   "file_extension": ".py",
   "mimetype": "text/x-python",
   "name": "python",
   "nbconvert_exporter": "python",
   "pygments_lexer": "ipython3",
   "version": "3.6.10"
  }
 },
 "nbformat": 4,
 "nbformat_minor": 4
}
