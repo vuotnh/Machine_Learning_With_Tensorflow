{
 "cells": [
  {
   "cell_type": "markdown",
   "metadata": {},
   "source": [
    "# Device Stats\n",
    "---\n",
    "\n",
    "The following is for informational purposes only."
   ]
  },
  {
   "cell_type": "code",
   "execution_count": 1,
   "metadata": {},
   "outputs": [
    {
     "name": "stdout",
     "output_type": "stream",
     "text": [
      "[PhysicalDevice(name='/physical_device:GPU:0', device_type='GPU')]\n",
      "/device:GPU:0\n",
      "True\n",
      "2.3.0\n"
     ]
    }
   ],
   "source": [
    "import tensorflow as tf\n",
    "print(tf.config.list_physical_devices('GPU'))\n",
    "print(tf.test.gpu_device_name())\n",
    "print(tf.test.is_built_with_cuda())\n",
    "print(tf.__version__)"
   ]
  },
  {
   "cell_type": "markdown",
   "metadata": {},
   "source": [
    "# Hardware\n",
    "---\n",
    "\n",
    "The machine used to build and run the listings within this repository used the following (primary) hardware components:\n",
    "\n",
    "**GPU:**\n",
    "[Nvidia RTX 2070 Super](https://www.nvidia.com/en-us/geforce/graphics-cards/rtx-2070-super/)\n",
    "\n",
    "**CPU:**\n",
    "[Intel Core i5-9600K @ 3.70GHz](https://ark.intel.com/content/www/us/en/ark/products/134896/intel-core-i5-9600k-processor-9m-cache-up-to-4-60-ghz.html)\n",
    "\n",
    "**Memory:**\n",
    "[Corsair 16GB (2x 8GB) DDR4 PC4-28800 (3600MHz)](https://www.corsair.com/ww/en/Categories/Products/Memory/Vengeance-PRO-RGB-Black/p/CMW16GX4M2C3600C18#)"
   ]
  },
  {
   "cell_type": "raw",
   "metadata": {},
   "source": [
    "+-----------------------------------------------------------------------------+\n",
    "| NVIDIA-SMI 440.100      Driver Version: 440.100      CUDA Version: 10.2     |\n",
    "|-------------------------------+----------------------+----------------------+\n",
    "| GPU  Name        Persistence-M| Bus-Id        Disp.A | Volatile Uncorr. ECC |\n",
    "| Fan  Temp  Perf  Pwr:Usage/Cap|         Memory-Usage | GPU-Util  Compute M. |\n",
    "|===============================+======================+======================|\n",
    "|   0  GeForce RTX 207...  Off  | 00000000:01:00.0 Off |                  N/A |\n",
    "| 40%   39C    P8    13W / 215W |    258MiB /  7959MiB |      0%      Default |\n",
    "+-------------------------------+----------------------+----------------------+\n",
    "\n",
    "+-----------------------------------------------------------------------------+\n",
    "| Processes:                                                       GPU Memory |\n",
    "|  GPU       PID   Type   Process name                             Usage      |\n",
    "|=============================================================================|\n",
    "|    0      4068      C   /home/rob/.pyenv/versions/3.8.4/bin/python   247MiB |\n",
    "+-----------------------------------------------------------------------------+"
   ]
  },
  {
   "cell_type": "code",
   "execution_count": null,
   "metadata": {},
   "outputs": [],
   "source": []
  }
 ],
 "metadata": {
  "kernelspec": {
   "display_name": "Python 3",
   "language": "python",
   "name": "python3"
  },
  "language_info": {
   "codemirror_mode": {
    "name": "ipython",
    "version": 3
   },
   "file_extension": ".py",
   "mimetype": "text/x-python",
   "name": "python",
   "nbconvert_exporter": "python",
   "pygments_lexer": "ipython3",
   "version": "3.8.4"
  }
 },
 "nbformat": 4,
 "nbformat_minor": 4
}
