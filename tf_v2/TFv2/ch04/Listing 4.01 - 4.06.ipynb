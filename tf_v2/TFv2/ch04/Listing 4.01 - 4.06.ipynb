{
 "cells": [
  {
   "cell_type": "code",
   "execution_count": 1,
   "metadata": {},
   "outputs": [],
   "source": [
    "import csv\n",
    "import time\n",
    "import numpy as np\n",
    "import matplotlib.pyplot as plt\n",
    "import tensorflow as tf\n",
    "import functools\n",
    "from tqdm.notebook import tqdm"
   ]
  },
  {
   "cell_type": "code",
   "execution_count": 2,
   "metadata": {},
   "outputs": [],
   "source": [
    "def read(filename, date_idx, date_parse, year=None, bucket=7):\n",
    "    days_in_year = 365\n",
    "    \n",
    "    freq = {}\n",
    "    if year != None:\n",
    "         for period in range(0, int(days_in_year / bucket)):\n",
    "            freq[period] = 0\n",
    "        \n",
    "    with open(filename, 'r') as csvfile:\n",
    "        csvreader = csv.reader(csvfile)\n",
    "        next(csvreader)\n",
    "        for row in csvreader:\n",
    "            if row[date_idx] == '':\n",
    "                continue\n",
    "            \n",
    "            t = time.strptime(row[date_idx], date_parse)\n",
    "            if year == None:\n",
    "                if not t.tm_year in freq:\n",
    "                    freq[t.tm_year] = {}\n",
    "                    for period in range(0, int(days_in_year / bucket)):\n",
    "                        freq[t.tm_year][period] = 0\n",
    "                \n",
    "                if t.tm_yday < (days_in_year - 1):\n",
    "                    freq[t.tm_year][int(t.tm_yday / bucket)] += 1\n",
    "                    \n",
    "            else:\n",
    "                if t.tm_year == year and t.tm_yday < (days_in_year-1):\n",
    "                    freq[int(t.tm_yday / bucket)] += 1\n",
    "    \n",
    "    return freq\n"
   ]
  },
  {
   "cell_type": "code",
   "execution_count": 3,
   "metadata": {},
   "outputs": [],
   "source": [
    "def split_dataset(x_dataset, y_dataset, ratio):\n",
    "    arr = np.arange(x_dataset.size)\n",
    "    np.random.shuffle(arr)\n",
    "    num_train = int(ratio * x_dataset.size)\n",
    "    x_train = x_dataset[arr[0:num_train]]\n",
    "    x_test = x_dataset[arr[num_train:x_dataset.size]]\n",
    "    y_train = y_dataset[arr[0:num_train]]\n",
    "    y_test = y_dataset[arr[num_train:x_dataset.size]]\n",
    "    return x_train, x_test, y_train, y_test"
   ]
  },
  {
   "cell_type": "markdown",
   "metadata": {},
   "source": [
    "# Read the 311 data \n",
    "Take in the 311 data. I couldn't find the LA 311 data from the book, I used the [NYC 311 data](https://data.cityofnewyork.us/Social-Services/311-csv/i4zx-95p9). The format was basically the same except the times included hours, minutes, and seconds.  One odd thing about it though - it looks like only a partial set of calls from the summer of 2014, so because of that, the data is super weird and looks more like a bell curve. That's fine, if you Google around, you'll see that the model that looks most like a bell curve is a [1 dimensional Gaussian function](https://stackoverflow.com/questions/14873203/plotting-of-1-dimensional-gaussian-distribution-function). I found Python code online that shows this. So, let's try and learn a model for it. Here's another [link](https://github.com/aakhundov/tf-example-models) to read more about Python, Gaussian and Tensorflow."
   ]
  },
  {
   "cell_type": "code",
   "execution_count": 4,
   "metadata": {},
   "outputs": [],
   "source": [
    "freq = read('../data/311.csv', 1, '%m/%d/%Y %H:%M:%S %p', 2014)"
   ]
  },
  {
   "cell_type": "code",
   "execution_count": 5,
   "metadata": {},
   "outputs": [
    {
     "data": {
      "text/plain": [
       "{0: 0,\n",
       " 1: 0,\n",
       " 2: 0,\n",
       " 3: 0,\n",
       " 4: 0,\n",
       " 5: 0,\n",
       " 6: 0,\n",
       " 7: 0,\n",
       " 8: 0,\n",
       " 9: 0,\n",
       " 10: 0,\n",
       " 11: 0,\n",
       " 12: 0,\n",
       " 13: 0,\n",
       " 14: 0,\n",
       " 15: 0,\n",
       " 16: 0,\n",
       " 17: 0,\n",
       " 18: 0,\n",
       " 19: 0,\n",
       " 20: 0,\n",
       " 21: 10889,\n",
       " 22: 40240,\n",
       " 23: 42125,\n",
       " 24: 42673,\n",
       " 25: 41721,\n",
       " 26: 38446,\n",
       " 27: 41915,\n",
       " 28: 41008,\n",
       " 29: 39011,\n",
       " 30: 36069,\n",
       " 31: 38821,\n",
       " 32: 37050,\n",
       " 33: 36967,\n",
       " 34: 26834,\n",
       " 35: 0,\n",
       " 36: 0,\n",
       " 37: 0,\n",
       " 38: 0,\n",
       " 39: 0,\n",
       " 40: 0,\n",
       " 41: 0,\n",
       " 42: 0,\n",
       " 43: 0,\n",
       " 44: 0,\n",
       " 45: 0,\n",
       " 46: 0,\n",
       " 47: 0,\n",
       " 48: 0,\n",
       " 49: 0,\n",
       " 50: 0,\n",
       " 51: 0}"
      ]
     },
     "execution_count": 5,
     "metadata": {},
     "output_type": "execute_result"
    }
   ],
   "source": [
    "freq"
   ]
  },
  {
   "cell_type": "code",
   "execution_count": 6,
   "metadata": {},
   "outputs": [
    {
     "name": "stdout",
     "output_type": "stream",
     "text": [
      "Num samples 52\n"
     ]
    },
    {
     "data": {
      "image/png": "[encoded data removed]",
      "text/plain": [
       "<Figure size 432x288 with 1 Axes>"
      ]
     },
     "metadata": {
      "needs_background": "light"
     },
     "output_type": "display_data"
    }
   ],
   "source": [
    "X_train = np.asarray(list(freq.keys()))\n",
    "Y_train = np.asarray(list(freq.values()))\n",
    "print(\"Num samples\", str(len(X_train)))\n",
    "maxY = np.max(Y_train)\n",
    "nY_train = Y_train / np.max(Y_train)\n",
    "\n",
    "plt.scatter(X_train, nY_train)\n",
    "plt.show()"
   ]
  },
  {
   "cell_type": "code",
   "execution_count": 7,
   "metadata": {
    "scrolled": true
   },
   "outputs": [
    {
     "data": {
      "image/png": "[encoded data removed]",
      "text/plain": [
       "<Figure size 432x288 with 1 Axes>"
      ]
     },
     "metadata": {
      "needs_background": "light"
     },
     "output_type": "display_data"
    }
   ],
   "source": [
    "def gaussian(x, mu, sig):\n",
    "    return np.exp(-np.power(x - mu, 2.) / (2 * np.power(sig, 2.)))\n",
    "x_values = np.linspace(-3, 3, 120)\n",
    "for mu, sig in [(-1, 1), (0, 2), (2, 3)]:\n",
    "    plt.plot(x_values, gaussian(x_values, mu, sig))\n",
    "\n",
    "plt.show()"
   ]
  },
  {
   "cell_type": "code",
   "execution_count": 8,
   "metadata": {},
   "outputs": [],
   "source": [
    "learning_rate = 1.5\n",
    "training_epochs = 5000"
   ]
  },
  {
   "cell_type": "code",
   "execution_count": 9,
   "metadata": {},
   "outputs": [],
   "source": [
    "class Model(object):\n",
    "    def __init__(self):\n",
    "        self.mu = tf.Variable(1., name=\"mu\")\n",
    "        self.sig = tf.Variable(1., name=\"sig\")\n",
    "\n",
    "    def __call__(self, x):\n",
    "        x_c = tf.cast(x, tf.float32)\n",
    "        return tf.exp(tf.divide(tf.negative(tf.pow(tf.subtract(x_c, self.mu), 2.)), tf.multiply(2., tf.pow(self.sig, 2.)))) "
   ]
  },
  {
   "cell_type": "code",
   "execution_count": 10,
   "metadata": {},
   "outputs": [],
   "source": [
    "def loss(predicted_y, desired_y):\n",
    "    return tf.square(tf.cast(predicted_y, tf.float32)-tf.cast(desired_y, tf.float32))"
   ]
  },
  {
   "cell_type": "code",
   "execution_count": 11,
   "metadata": {},
   "outputs": [],
   "source": [
    "optimizer = tf.keras.optimizers.SGD(learning_rate)"
   ]
  },
  {
   "cell_type": "code",
   "execution_count": 12,
   "metadata": {},
   "outputs": [],
   "source": [
    "def train_step(model, inputs, outputs):\n",
    "    with tf.GradientTape() as t:\n",
    "        current_loss = loss(model(inputs), outputs)\n",
    "        \n",
    "    grads = t.gradient(current_loss, [model.mu, model.sig])\n",
    "    optimizer.apply_gradients(zip(grads,[model.mu, model.sig]))\n",
    "    return current_loss"
   ]
  },
  {
   "cell_type": "code",
   "execution_count": 13,
   "metadata": {
    "scrolled": true
   },
   "outputs": [
    {
     "name": "stderr",
     "output_type": "stream",
     "text": [
      "<ipython-input-13-843ceef88ccc>:2: TqdmDeprecationWarning: This function will be removed in tqdm==5.0.0\n",
      "Please use `tqdm.notebook.tqdm` instead of `tqdm.tqdm_notebook`\n",
      "  for epoch in tqdm(range(training_epochs)):\n"
     ]
    },
    {
     "data": {
      "application/vnd.jupyter.widget-view+json": {
       "model_id": "293407ce9df842ff96bcf5f6ffb70654",
       "version_major": 2,
       "version_minor": 0
      },
      "text/plain": [
       "HBox(children=(FloatProgress(value=0.0, max=5000.0), HTML(value='')))"
      ]
     },
     "metadata": {},
     "output_type": "display_data"
    },
    {
     "name": "stdout",
     "output_type": "stream",
     "text": [
      "Current loss 0.000010\n",
      "Current loss 0.000000\n",
      "Current loss 0.000000\n",
      "Current loss 0.000000\n",
      "Current loss 0.000000\n",
      "Current loss 0.000000\n",
      "Current loss 0.000000\n",
      "Current loss 0.000000\n",
      "Current loss 0.000000\n",
      "Current loss 0.000000\n",
      "Current loss 0.000000\n",
      "Current loss 0.000000\n",
      "Current loss 0.000000\n",
      "Current loss 0.000000\n",
      "Current loss 0.000000\n",
      "Current loss 0.000000\n",
      "Current loss 0.000000\n",
      "Current loss 0.000000\n",
      "Current loss 0.000000\n",
      "Current loss 0.000000\n",
      "Current loss 0.000000\n",
      "Current loss 0.000000\n",
      "Current loss 0.000000\n",
      "Current loss 0.000000\n",
      "Current loss 0.000000\n",
      "Current loss 0.000000\n",
      "Current loss 0.000000\n",
      "Current loss 0.000000\n",
      "Current loss 0.000000\n",
      "Current loss 0.000000\n",
      "Current loss 0.000000\n",
      "Current loss 0.000000\n",
      "Current loss 0.000000\n",
      "Current loss 0.000000\n",
      "Current loss 0.000000\n",
      "Current loss 0.000000\n",
      "Current loss 0.000000\n",
      "Current loss 0.000000\n",
      "Current loss 0.000000\n",
      "Current loss 0.000000\n",
      "Current loss 0.000000\n",
      "Current loss 0.000000\n",
      "Current loss 0.000000\n",
      "Current loss 0.000000\n",
      "Current loss 0.000000\n",
      "Current loss 0.000000\n",
      "Current loss 0.000000\n",
      "Current loss 0.000000\n",
      "Current loss 0.000000\n",
      "Current loss 0.000000\n",
      "\n"
     ]
    }
   ],
   "source": [
    "model = Model()\n",
    "for epoch in tqdm(range(training_epochs)):\n",
    "    for i in range(0, len(X_train)):\n",
    "        _loss = train_step(model, X_train[i], nY_train[i])\n",
    "        \n",
    "    if epoch % 100 == 0:\n",
    "        print(\"Current loss %f\" % (_loss.numpy()))\n",
    "\n",
    "mu_val = model.mu\n",
    "sig_val = model.sig"
   ]
  },
  {
   "cell_type": "code",
   "execution_count": 16,
   "metadata": {},
   "outputs": [
    {
     "name": "stdout",
     "output_type": "stream",
     "text": [
      "27.232365\n",
      "4.9030166\n"
     ]
    }
   ],
   "source": [
    "print(mu_val.numpy())\n",
    "print(sig_val.numpy())"
   ]
  },
  {
   "cell_type": "code",
   "execution_count": 17,
   "metadata": {},
   "outputs": [
    {
     "data": {
      "image/png": "[encoded data removed]",
      "text/plain": [
       "<Figure size 432x288 with 1 Axes>"
      ]
     },
     "metadata": {
      "needs_background": "light"
     },
     "output_type": "display_data"
    },
    {
     "name": "stdout",
     "output_type": "stream",
     "text": [
      "Prediction of week 35 21363.281\n",
      "Actual week 35 36967\n"
     ]
    }
   ],
   "source": [
    "plt.scatter(X_train, Y_train)\n",
    "trY2 = maxY * (np.exp(-np.power(X_train - mu_val, 2.) / (2 * np.power(sig_val, 2.))))\n",
    "plt.plot(X_train, trY2, 'r')\n",
    "plt.show()\n",
    "print(\"Prediction of week 35\", trY2[33])\n",
    "print(\"Actual week 35\", Y_train[33])"
   ]
  },
  {
   "cell_type": "code",
   "execution_count": 18,
   "metadata": {},
   "outputs": [
    {
     "data": {
      "image/png": "[encoded data removed]",
      "text/plain": [
       "<Figure size 432x288 with 1 Axes>"
      ]
     },
     "metadata": {
      "needs_background": "light"
     },
     "output_type": "display_data"
    },
    {
     "name": "stdout",
     "output_type": "stream",
     "text": [
      "Average Error 205.45542993632932\n",
      "Accuracy 0.9951853530350262\n"
     ]
    }
   ],
   "source": [
    "# plot the error\n",
    "error = np.power(np.power(trY2 - Y_train, 2), 0.5)\n",
    "plt.bar(X_train, error)\n",
    "plt.show()\n",
    "\n",
    "# compute the overall average error\n",
    "avg_error = functools.reduce(lambda a,b: a+b, (trY2-Y_train))\n",
    "avg_error = np.abs(avg_error) / len(X_train)\n",
    "print(\"Average Error\", avg_error)\n",
    "acc = 1. - (avg_error / maxY)\n",
    "print(\"Accuracy\", acc)"
   ]
  },
  {
   "cell_type": "markdown",
   "metadata": {},
   "source": [
    "# Use Regularization\n",
    "We'll use regularlization and .7 / .3 train/test split to see if it helps. I'm omitting this portion from the notebook. The short answer is that I tried it, and basically it did what regularliation is supposed to do. It penalized higher values for the weights, in this case, mu and dig, and in doing so, didn't allow it to explore the way it needed to. It made the model learn a function based on the training data where it was missing data early on, and b/c of that, it thought the bell curve started there. Instead, I'll take the train/test split idea and use that to run the same model annd then evaluate it on the unseen data for test.\n",
    "\n",
    "Some cool links to read about regularization:\n",
    "\n",
    "  1. [Regularization using Tensorflow](http://www.godeep.ml/regularization-using-tensorflow/)\n",
    "  2. [The Art of Regularization](https://greydanus.github.io/2016/09/05/regularization/)\n",
    "  3. [Stochastic versus Mini-batch learning](https://medium.com/coinmonks/stochastic-vs-mini-batch-training-in-machine-learning-using-tensorflow-and-python-7f9709143ee2)"
   ]
  },
  {
   "cell_type": "markdown",
   "metadata": {},
   "source": [
    "# Train/Test Split results\n",
    "Here's the short answer on the results from train/test split. I tried a 0.7 train test split. Interestingly enough, with the same learning rate (1.5), the model learned very small values of sig and mu, and never could break out of learning a similar result from regularization. That is, that there was an early peak, and to try and model that. It seems without the full continuous data from each week, the Gaussian model can't figure out where the peak begins, ends, and its width. So, the best answer with the highest accuracy is the Gaussian fit done initially on all the data."
   ]
  },
  {
   "cell_type": "code",
   "execution_count": null,
   "metadata": {},
   "outputs": [],
   "source": []
  }
 ],
 "metadata": {
  "kernelspec": {
   "display_name": "Python 3",
   "language": "python",
   "name": "python3"
  },
  "language_info": {
   "codemirror_mode": {
    "name": "ipython",
    "version": 3
   },
   "file_extension": ".py",
   "mimetype": "text/x-python",
   "name": "python",
   "nbconvert_exporter": "python",
   "pygments_lexer": "ipython3",
   "version": "3.8.5"
  }
 },
 "nbformat": 4,
 "nbformat_minor": 2
}
