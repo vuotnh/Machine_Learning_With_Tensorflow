{
 "cells": [
  {
   "cell_type": "markdown",
   "metadata": {},
   "source": [
    "# Training a DeepSpeech LSTM Model using the LibriSpeech Data \n",
    "At the end of Chapter 16 and into Chapter 17 in the book it is suggested try and build an automatic speech recognition system using the LibriVox corpus and long short term memory (LSTM) models just learned in the Recurrent Neural Network (RNN) chapter. This particular excercise turned out to be quite difficult mostly from the perspective again of simply gathering and formatting the data, combined with the work to understand the LSTM was doing. As it turns out, in doing this assignment I taught myself about MFCCs (mel frequency cepstral coefficient) which are simply what is going on in the  Bregman Toolkit example earlier in the book. It's a process to convert audio into *num_cepstrals* coefficients using an FFT, and to use those coeffiicents as amplitudes and convert from the frequency into the time domain. LSTMs need time series data and a number of audio files converted using MFCCs into frequency amplitudes corresponding to utterances that you have transcript data for and you are in business!\n",
    "\n",
    "The other major lesson was finding [RNN-Tutorial](https://github.com/mrubash1/RNN-Tutoria) an existing GitHub repository that implements a simplified version of the [deepspeech model](https://github.com/mozilla/DeepSpeech) from Mozilla which is a TensorFlow implementation of the Baidu model from the [seminal paper](https://arxiv.org/abs/1412.5567) in 2014.\n",
    "\n",
    "I had to figure out along the way how to tweak hyperparameters including epochs, batch size, and training data. But overall this is a great architecture and example of how to use validation/dev sets during training for looking at validation loss compared to train loss and then overall to measure test accuracy.\n",
    "\n",
    "### Data Preprocessing Steps:\n",
    "   1. Grab all text files which start out as the full speech from all subsequent \\*.flac files\n",
    "   2. Each line in the text file contains:\n",
    "       ```\n",
    "       filename(without .txt at end) the speech present in the file, e.g., words separated by spaces\n",
    "       filename N ... words ....\n",
    "       ```\n",
    "   3. Then convert all \\*.flac files to \\*.wav files, using `flac2wav`\n",
    "   4. Remove all the flac files and remove the \\*.trans.txt files\n",
    "   5. Run this code in the notebook below to generate the associated \\*.txt file to go along with each \\*.wav file.\n",
    "   6. Move all the \\*.wav and \\*.txt files into a single folder, e.g., `LibriSpeech/train-clean-all` \n",
    "   7. Repeat for test and dev\n",
    "   \n",
    "Once complete, you have a dataset to run through [RNN-Tutorial](https://github.com/mrubash1/RNN-Tutorial.git)\n",
    "\n",
    "### References\n",
    "   1. [PyDub](https://github.com/jiaaro/pydub) - PyDub library\n",
    "   2. [A short reminder of how CTC works](https://towardsdatascience.com/beam-search-decoding-in-ctc-trained-neural-networks-5a889a3d85a7)\n",
    "   3. [OpenSLR - LibriSpeech corpus](http://www.openslr.org/12)\n",
    "   4. [Hamsa's Deep Speech notebook](https://github.com/cosmoshsv/Deep-Speech/blob/master/DeepSpeech_RNN_Training.ipynb)\n",
    "   5. [LSTM's by example using TensorFlow](https://towardsdatascience.com/lstm-by-example-using-tensorflow-feb0c1968537) \n",
    "   6. [How to read an audio file using TensorFlow APIs](https://github.com/tensorflow/tensorflow/issues/28237)\n",
    "   7. [Audio spectrograms in TensorFlow](https://mauri870.github.io/blog/posts/audio-spectrograms-in-tensorflow/)\n",
    "   8. [Reading audio files using TensorFlow](https://github.com/tensorflow/tensorflow/issues/32382)\n",
    "   9. [TensorFlow's decode_wav API](https://www.tensorflow.org/api_docs/python/tf/audio/decode_wav)\n",
    "   10. [Speech Recognition](https://towardsdatascience.com/speech-recognition-analysis-f03ff9ce78e9)\n",
    "   11. [Using TensorFlow's audio ops](https://stackoverflow.com/questions/48660391/using-tensorflow-contrib-framework-python-ops-audio-ops-audio-spectrogram-to-gen)\n",
    "   12. [LSTM by Example - Towards Data Science](https://towardsdatascience.com/lstm-by-example-using-tensorflow-feb0c1968537)\n",
    "   13. [Training your Own Model -  DeepSpeech](https://deepspeech.readthedocs.io/en/v0.7.3/TRAINING.html)\n",
    "   14. [Understanding LSTMs](http://colah.github.io/posts/2015-08-Understanding-LSTMs/)\n",
    "   15. [Implementing  LSTMs](https://apaszke.github.io/lstm-explained.html)\n",
    "   16. [Mel Frequency Cepstral Coefficient](http://practicalcryptography.com/miscellaneous/machine-learning/guide-mel-frequency-cepstral-coefficients-mfccs/)\n",
    "   17. [TensorFlow - Extract Every Other Element](https://stackoverflow.com/questions/46721407/tensorflow-extract-every-other-element)\n",
    "   18. [Plotting MFCCs in TensorFlow](https://stackoverflow.com/questions/47056432/is-it-possible-to-get-exactly-the-same-results-from-tensorflow-mfcc-and-librosa)\n",
    "   19. [MFCCs in TensorFlow](https://kite.com/python/docs/tensorflow.contrib.slim.rev_block_lib.contrib_framework_ops.audio_ops.mfcc)\n",
    "   20. [How to train Baidu's Deep Speech Model with Kur](https://blog.deepgram.com/how-to-train-baidus-deepspeech-model-with-kur/)\n",
    "   21. [Silicon Valley Data Science SVDS - RNN Tutorial](https://www.svds.com/tensorflow-rnn-tutorial/)\n",
    "   22. [Streaming RNNs with TensorFlow](https://hacks.mozilla.org/2018/09/speech-recognition-deepspeech/)\n",
    "   "
   ]
  },
  {
   "cell_type": "code",
   "execution_count": 1,
   "metadata": {},
   "outputs": [],
   "source": [
    "import sys"
   ]
  },
  {
   "cell_type": "code",
   "execution_count": 2,
   "metadata": {},
   "outputs": [],
   "source": [
    "sys.path.append(\"../libs/basic_units/\")"
   ]
  },
  {
   "cell_type": "code",
   "execution_count": 3,
   "metadata": {},
   "outputs": [],
   "source": [
    "import tensorflow as tf\n",
    "import numpy as np\n",
    "import matplotlib.pyplot as plt\n",
    "from tensorflow.audio import decode_wav\n",
    "from tensorflow.raw_ops import Mfcc, AudioSpectrogram\n",
    "from tqdm.notebook import tqdm\n",
    "from basic_units import cm, inch\n",
    "import glob\n",
    "from scipy import signal\n",
    "import soundfile as sf\n",
    "import os\n",
    "import time\n",
    "import csv"
   ]
  },
  {
   "cell_type": "code",
   "execution_count": 4,
   "metadata": {},
   "outputs": [],
   "source": [
    "speech_data_path = \"../data/LibriSpeech\"\n",
    "train_path = speech_data_path + \"/train-clean-100\"\n",
    "dev_path = speech_data_path + \"/dev-clean\"\n",
    "test_path = speech_data_path + \"/test-clean\""
   ]
  },
  {
   "cell_type": "code",
   "execution_count": 5,
   "metadata": {},
   "outputs": [],
   "source": [
    "train_transcripts = [file for file in glob.glob(train_path + \"/*/*/*.txt\")]\n",
    "dev_transcripts = [file for file in glob.glob(dev_path + \"/*/*/*.txt\")]\n",
    "test_transcripts = [file for file in glob.glob(test_path + \"/*/*/*.txt\")]"
   ]
  },
  {
   "cell_type": "code",
   "execution_count": 6,
   "metadata": {},
   "outputs": [],
   "source": [
    "train_audio_wav = [file for file in glob.glob(train_path + \"/*/*/*.wav\")]\n",
    "dev_audio_wav = [file for file in glob.glob(dev_path + \"/*/*/*.wav\")]\n",
    "test_audio_wav = [file for file in glob.glob(test_path + \"/*/*/*.wav\")]"
   ]
  },
  {
   "cell_type": "code",
   "execution_count": 7,
   "metadata": {},
   "outputs": [],
   "source": [
    "sys.path.append(\"../libs/RNN-Tutorial/src\") "
   ]
  },
  {
   "cell_type": "code",
   "execution_count": 8,
   "metadata": {},
   "outputs": [],
   "source": [
    "numcep=26\n",
    "numcontext=9"
   ]
  },
  {
   "cell_type": "code",
   "execution_count": 9,
   "metadata": {},
   "outputs": [
    {
     "name": "stdout",
     "output_type": "stream",
     "text": [
      "(163840, 1)\n",
      "16000\n",
      "[[[-1.2924805e+00 -1.6727712e+00  2.6565906e-01 ... -4.9464533e-01\n",
      "   -8.0459461e-02 -2.4568604e-01]\n",
      "  [-1.3827541e+00 -1.6454916e+00  2.7615392e-01 ... -4.9200761e-01\n",
      "   -8.6767256e-02 -2.2917633e-01]\n",
      "  [-1.5100304e+00 -1.5856098e+00  3.4048718e-01 ... -4.5024821e-01\n",
      "   -7.9039715e-02 -1.7609477e-01]\n",
      "  ...\n",
      "  [-3.8997927e+00 -9.6423161e-01 -5.6239200e-01 ... -2.0234044e-01\n",
      "   -1.3896421e-01  4.8706021e-02]\n",
      "  [-3.8434243e+00 -9.2779779e-01 -5.9620500e-01 ... -1.0271078e-01\n",
      "   -9.9897847e-02  1.9752394e-02]\n",
      "  [-3.8488970e+00 -9.0062475e-01 -6.3511568e-01 ...  2.8306339e-03\n",
      "   -5.6673948e-02 -5.8116550e-03]]]\n",
      "(1, 2545, 26)\n"
     ]
    },
    {
     "data": {
      "image/png": "[encoded data removed]",
      "text/plain": [
       "<Figure size 432x288 with 1 Axes>"
      ]
     },
     "metadata": {
      "needs_background": "light"
     },
     "output_type": "display_data"
    }
   ],
   "source": [
    "filename =  '../data/LibriSpeech/train-clean-100/3486/166424/3486-166424-0004.wav'\n",
    "raw_audio = tf.io.read_file(filename)\n",
    "audio, fs = decode_wav(raw_audio)\n",
    "print(np.shape(audio.numpy()))\n",
    "print(fs.numpy())\n",
    "\n",
    "# Get mfcc coefficients\n",
    "spectrogram = AudioSpectrogram(\n",
    "        input=audio, window_size=1024,stride=64)\n",
    "orig_inputs = Mfcc(spectrogram=spectrogram, sample_rate=fs, dct_coefficient_count=numcep)\n",
    "\n",
    "audio_mfcc = orig_inputs.numpy()\n",
    "print(audio_mfcc)\n",
    "print(np.shape(audio_mfcc))\n",
    "hist_audio = np.histogram(audio_mfcc, bins=range(9 + 1))\n",
    "plt.hist(hist_audio)\n",
    "plt.show()"
   ]
  },
  {
   "cell_type": "code",
   "execution_count": 10,
   "metadata": {},
   "outputs": [
    {
     "name": "stdout",
     "output_type": "stream",
     "text": [
      "[ 0.15  1.15  2.15  3.15  4.15  5.15  6.15  7.15  8.15  9.15 10.15 11.15\n",
      " 12.15 13.15 14.15 15.15 16.15 17.15 18.15 19.15 20.15 21.15 22.15 23.15\n",
      " 24.15 25.15]\n"
     ]
    },
    {
     "data": {
      "image/png": "[encoded data removed]",
      "text/plain": [
       "<Figure size 432x288 with 1 Axes>"
      ]
     },
     "metadata": {
      "needs_background": "light"
     },
     "output_type": "display_data"
    }
   ],
   "source": [
    "labels=[]\n",
    "for i in np.arange(26):\n",
    "    labels.append(\"P\"+str(i+1))\n",
    "    \n",
    "fig, ax = plt.subplots()\n",
    "ind = np.arange(len(labels))\n",
    "width = 0.15\n",
    "colors = ['r', 'g', 'y', 'b', 'black']\n",
    "plots = []\n",
    "\n",
    "for i in range(0, 5):\n",
    "    Xs = np.asarray(np.abs(audio_mfcc[0][i])).reshape(-1)\n",
    "    p = ax.bar(ind + i*width, Xs, width, color=colors[i])\n",
    "    plots.append(p[0])\n",
    "\n",
    "xticks = ind + width / (audio_mfcc.shape[0])\n",
    "print(xticks)\n",
    "ax.legend(tuple(plots), ('S1', 'S2', 'S3', 'S4', 'S5'))\n",
    "ax.yaxis.set_units(inch)\n",
    "ax.autoscale_view()\n",
    "ax.set_xticks(xticks)\n",
    "ax.set_xticklabels(labels)\n",
    "\n",
    "ax.set_ylabel('Normalized freq coumt')\n",
    "ax.set_xlabel('Pitch')\n",
    "ax.set_title('Normalized frequency counts for Various Sounds')\n",
    "plt.show()"
   ]
  },
  {
   "cell_type": "code",
   "execution_count": 11,
   "metadata": {},
   "outputs": [
    {
     "name": "stdout",
     "output_type": "stream",
     "text": [
      "[[[ 4.30906334e+01 -2.03534174e+00  2.13124916e-01 ... -1.80211738e-01\n",
      "   -1.85429707e-01 -2.71477193e-01]\n",
      "  [ 4.31706581e+01 -2.00894237e+00  1.24617569e-01 ... -1.76925331e-01\n",
      "   -1.90575659e-01 -2.57524341e-01]\n",
      "  [ 4.31397552e+01 -1.99346173e+00  2.48030107e-02 ... -1.74366608e-01\n",
      "   -2.01282144e-01 -2.28919283e-01]\n",
      "  ...\n",
      "  [ 3.75711555e+01  1.11948147e-01 -1.20602953e+00 ... -1.09063618e-01\n",
      "   -1.47348404e-01 -4.01394591e-02]\n",
      "  [ 3.72089195e+01  1.13353238e-01 -1.15313697e+00 ... -1.19969286e-01\n",
      "   -1.65252820e-01 -3.10349297e-02]\n",
      "  [ 3.66761971e+01  7.20925033e-02 -1.06190836e+00 ... -1.32965922e-01\n",
      "   -1.79992720e-01 -2.88166851e-02]]]\n",
      "(1, 165, 26)\n"
     ]
    },
    {
     "data": {
      "application/vnd.jupyter.widget-view+json": {
       "model_id": "c0c818939da44aceb658580bead2f025",
       "version_major": 2,
       "version_minor": 0
      },
      "text/plain": [
       "HBox(children=(FloatProgress(value=0.0, max=165.0), HTML(value='')))"
      ]
     },
     "metadata": {},
     "output_type": "display_data"
    },
    {
     "name": "stdout",
     "output_type": "stream",
     "text": [
      "\n",
      "Train inputs shape (165, 494) \n",
      "Train inputs [[-0.1549316  -0.1549316  -0.1549316  ... -0.16783054 -0.17190124\n",
      "  -0.15780927]\n",
      " [-0.1549316  -0.1549316  -0.1549316  ... -0.16929814 -0.1677892\n",
      "  -0.16038078]\n",
      " [-0.1549316  -0.1549316  -0.1549316  ... -0.17141952 -0.16438814\n",
      "  -0.16207673]\n",
      " ...\n",
      " [ 4.868814   -0.3211337  -0.11208492 ... -0.1549316  -0.1549316\n",
      "  -0.1549316 ]\n",
      " [ 4.8369946  -0.31495303 -0.11409124 ... -0.1549316  -0.1549316\n",
      "  -0.1549316 ]\n",
      " [ 4.819872   -0.30001065 -0.13118725 ... -0.1549316  -0.1549316\n",
      "  -0.1549316 ]]\n"
     ]
    }
   ],
   "source": [
    "filename =  '../data/LibriSpeech/train-clean-100/3486/166424/3486-166424-0004.wav'\n",
    "raw_audio = tf.io.read_file(filename)\n",
    "audio, fs = decode_wav(raw_audio)\n",
    "\n",
    "wsize = 16384 #1024\n",
    "stride = 448 #64\n",
    "\n",
    "\n",
    "# Get mfcc coefficients\n",
    "spectrogram = AudioSpectrogram(\n",
    "        input=audio, window_size=wsize,stride=stride)\n",
    "numcep=26\n",
    "numcontext=9\n",
    "orig_inputs = Mfcc(spectrogram=spectrogram, sample_rate=fs, dct_coefficient_count=numcep) \n",
    "orig_inputs = orig_inputs[:,::2]\n",
    "\n",
    "audio_mfcc = orig_inputs.numpy()\n",
    "print(audio_mfcc)\n",
    "print(np.shape(audio_mfcc))\n",
    "\n",
    "train_inputs = np.array([], np.float32)\n",
    "train_inputs.resize((audio_mfcc.shape[1], numcep + 2 * numcep * numcontext))\n",
    "\n",
    "# Prepare pre-fix post fix context\n",
    "empty_mfcc = np.array([])\n",
    "empty_mfcc.resize((numcep))\n",
    "empty_mfcc = tf.convert_to_tensor(empty_mfcc, dtype=tf.float32)\n",
    "empty_mfcc_ev = empty_mfcc.numpy()\n",
    "\n",
    "# Prepare train_inputs with past and future contexts\n",
    "# This code always takes 9 time steps previous and 9 time steps in the future along with the current time step\n",
    "time_slices = range(train_inputs.shape[0])\n",
    "context_past_min = time_slices[0] + numcontext #starting min point for past content, has to be at least 9 ts\n",
    "context_future_max = time_slices[-1] - numcontext  #ending point  max for future content, size time slices - 9ts\n",
    "\n",
    "for time_slice in tqdm(time_slices):\n",
    "    #print('time slice %d ' % (time_slice))\n",
    "    # Reminder: array[start:stop:step]\n",
    "    # slices from indice |start| up to |stop| (not included), every |step|\n",
    "\n",
    "    # Add empty context data of the correct size to the start and end\n",
    "    # of the MFCC feature matrix\n",
    "\n",
    "    # Pick up to numcontext time slices in the past, and complete with empty\n",
    "    # mfcc features\n",
    "    need_empty_past = max(0, (context_past_min - time_slice))\n",
    "    empty_source_past = np.asarray([empty_mfcc_ev for empty_slots in range(need_empty_past)])\n",
    "    data_source_past = orig_inputs[0][max(0, time_slice - numcontext):time_slice]\n",
    "    assert(len(empty_source_past) + data_source_past.numpy().shape[0] == numcontext)\n",
    "\n",
    "    # Pick up to numcontext time slices in the future, and complete with empty\n",
    "    # mfcc features\n",
    "    need_empty_future = max(0, (time_slice - context_future_max))\n",
    "    empty_source_future = np.asarray([empty_mfcc_ev for empty_slots in range(need_empty_future)])\n",
    "    data_source_future = orig_inputs[0][time_slice + 1:time_slice + numcontext + 1]\n",
    "    assert(len(empty_source_future) + data_source_future.numpy().shape[0] == numcontext)\n",
    "\n",
    "    # pad if needed for the past or future, or else simply take past and future\n",
    "    if need_empty_past:\n",
    "        past = tf.concat([tf.cast(empty_source_past, tf.float32), tf.cast(data_source_past, tf.float32)], 0)\n",
    "    else:\n",
    "        past = data_source_past\n",
    "\n",
    "    if need_empty_future:\n",
    "        future = tf.concat([tf.cast(data_source_future, tf.float32), tf.cast(empty_source_future, tf.float32)], 0)\n",
    "    else:\n",
    "        future = data_source_future\n",
    "\n",
    "\n",
    "    past = tf.reshape(past, [numcontext*numcep])\n",
    "    now = orig_inputs[0][time_slice]\n",
    "    future  = tf.reshape(future, [numcontext*numcep])\n",
    "\n",
    "    train_inputs[time_slice] = np.concatenate((past.numpy(), now.numpy(), future.numpy()))\n",
    "    assert(train_inputs[time_slice].shape[0] == numcep + 2*numcep*numcontext)\n",
    "\n",
    "train_inputs = (train_inputs - np.mean(train_inputs)) / np.std(train_inputs)\n",
    "print('Train inputs shape %s ' % str(np.shape(train_inputs)))\n",
    "print('Train inputs '+str(train_inputs))\n"
   ]
  },
  {
   "cell_type": "code",
   "execution_count": 12,
   "metadata": {},
   "outputs": [],
   "source": [
    "preprocessing = {\n",
    "    'data_dir': train_path,\n",
    "    'cache_dir' : '../data/cache/LibriSpeech',\n",
    "    'window_size': 20,\n",
    "    'step_size': 10\n",
    "}\n",
    "\n",
    "model = {\n",
    "    'verbose': 1,\n",
    "    'conv_channels': [100],\n",
    "    'conv_filters': [5],\n",
    "    'conv_strides': [2],\n",
    "    'rnn_units': [64],\n",
    "    'bidirectional_rnn': True,\n",
    "    'future_context': 2,\n",
    "    'use_bn': True,\n",
    "    'learning_rate': 0.001\n",
    "\n",
    "}\n",
    "\n",
    "training = {\n",
    "    'tensorboard': False,\n",
    "    'log_dir': './logs',\n",
    "    'batch_size': 5,\n",
    "    'epochs': 5,\n",
    "    'validation_size': 0.2,\n",
    "    'max_train' : 100\n",
    "}"
   ]
  },
  {
   "cell_type": "code",
   "execution_count": 13,
   "metadata": {},
   "outputs": [],
   "source": [
    "if not os.path.exists(preprocessing['cache_dir']):\n",
    "    os.makedirs(preprocessing['cache_dir'])"
   ]
  },
  {
   "cell_type": "code",
   "execution_count": 14,
   "metadata": {},
   "outputs": [],
   "source": [
    "def clipped_relu(x):\n",
    "    return tf.keras.activations.relu(x, max_value=20)"
   ]
  },
  {
   "cell_type": "code",
   "execution_count": 15,
   "metadata": {},
   "outputs": [],
   "source": [
    "def ctc_lambda_func(args):\n",
    "    y_pred, labels, input_length, label_length = args\n",
    "    return tf.keras.backend.ctc_batch_cost(labels, y_pred, input_length, label_length)"
   ]
  },
  {
   "cell_type": "code",
   "execution_count": 16,
   "metadata": {},
   "outputs": [],
   "source": [
    "def ctc(y_true, y_pred):\n",
    "    return y_pred"
   ]
  },
  {
   "cell_type": "code",
   "execution_count": 17,
   "metadata": {},
   "outputs": [],
   "source": [
    "class SpeechModel(object):\n",
    "\n",
    "    def __init__(self, hparams):\n",
    "\n",
    "        input_data = tf.keras.layers.Input(name='inputs', shape=[hparams['max_input_length'], 161])\n",
    "        x = input_data\n",
    "\n",
    "        if hparams['use_bn']:\n",
    "            x = tf.keras.layers.BatchNormalization()(x)\n",
    "\n",
    "        x = tf.keras.layers.ZeroPadding1D(padding=(0, hparams['max_input_length']))(x)\n",
    "        for i in range(len(hparams['conv_channels'])):\n",
    "            x = tf.keras.layers.Conv1D(hparams['conv_channels'][i], hparams['conv_filters'][i],\n",
    "                                       strides=hparams['conv_strides'][i], activation='relu', padding='same')(x)\n",
    "\n",
    "        if hparams['use_bn']:\n",
    "            x = tf.keras.layers.BatchNormalization()(x)\n",
    "\n",
    "        for h_units in hparams['rnn_units']:\n",
    "            if hparams['bidirectional_rnn']:\n",
    "                h_units = int(h_units / 2)\n",
    "            gru = tf.keras.layers.GRU(h_units, activation='relu', return_sequences=True)\n",
    "            if hparams['bidirectional_rnn']:\n",
    "                gru = tf.keras.layers.Bidirectional(gru, merge_mode='sum')\n",
    "            x = gru(x)\n",
    "\n",
    "        if hparams['use_bn']:\n",
    "            x = tf.keras.layers.BatchNormalization()(x)\n",
    "\n",
    "        if hparams['future_context'] > 0:\n",
    "            if hparams['future_context'] > 1:\n",
    "                x = tf.keras.layers.ZeroPadding1D(padding=(0, hparams['future_context'] - 1))(x)\n",
    "            x = tf.keras.layers.Conv1D(100, hparams['future_context'], activation='relu')(x)\n",
    "\n",
    "        y_pred = tf.keras.layers.TimeDistributed(tf.keras.layers.Dense(hparams['vocab_size'] + 1,\n",
    "                                                                       activation='sigmoid'))(x)\n",
    "\n",
    "        labels = tf.keras.layers.Input(name='labels', shape=[None], dtype='int32')\n",
    "        input_length = tf.keras.layers.Input(name='input_lengths', shape=[1], dtype='int32')\n",
    "        label_length = tf.keras.layers.Input(name='label_lengths', shape=[1], dtype='int32')\n",
    "\n",
    "        loss_out = tf.keras.layers.Lambda(ctc_lambda_func, output_shape=(1,), name='ctc')([y_pred,\n",
    "                                                                                           labels,\n",
    "                                                                                           input_length,\n",
    "                                                                                           label_length])\n",
    "\n",
    "        self.model = tf.keras.Model(inputs=[input_data, labels, input_length, label_length], outputs=[loss_out])\n",
    "\n",
    "        if hparams['verbose']:\n",
    "            print(self.model.summary())\n",
    "\n",
    "        optimizer = tf.keras.optimizers.Adam(lr=hparams['learning_rate'], beta_1=0.9, beta_2=0.999,\n",
    "                                             epsilon=1e-8, clipnorm=5)\n",
    "\n",
    "        self.model.compile(optimizer=optimizer, loss=ctc)\n",
    "\n",
    "    def train_generator(self, generator, train_params):\n",
    "        callbacks = []\n",
    "\n",
    "        if train_params['tensorboard']:\n",
    "            callbacks.append(tf.keras.callbacks.TensorBoard(train_params['log_dir'], write_images=True))\n",
    "\n",
    "        self.model.fit(generator, epochs=train_params['epochs'],\n",
    "                                 steps_per_epoch=train_params['steps_per_epoch'],\n",
    "                                 callbacks=callbacks)"
   ]
  },
  {
   "cell_type": "code",
   "execution_count": 18,
   "metadata": {},
   "outputs": [],
   "source": [
    "def create_character_mapping():\n",
    "    character_map = {' ': 0}\n",
    "\n",
    "    for i in range(97, 123):\n",
    "        character_map[chr(i)] = len(character_map)\n",
    "\n",
    "    return character_map"
   ]
  },
  {
   "cell_type": "code",
   "execution_count": 19,
   "metadata": {},
   "outputs": [],
   "source": [
    "def get_data_details(filename):\n",
    "    result = {\n",
    "        'max_input_length': 0,\n",
    "        'max_label_length': 0,\n",
    "        'num_samples': 0\n",
    "    }\n",
    "\n",
    "    # Get max lengths\n",
    "    with open(filename, 'r') as metadata:\n",
    "        metadata_reader = csv.DictReader(metadata, fieldnames=['filename', 'spec_length', 'labels_length', 'labels'])\n",
    "        next(metadata_reader)\n",
    "        for row in metadata_reader:\n",
    "            if int(row['spec_length']) > result['max_input_length']:\n",
    "                result['max_input_length'] = int(row['spec_length'])\n",
    "            if int(row['labels_length']) > result['max_label_length']:\n",
    "                result['max_label_length'] = int(row['labels_length'])\n",
    "            result['num_samples'] += 1\n",
    "\n",
    "    return result"
   ]
  },
  {
   "cell_type": "code",
   "execution_count": 20,
   "metadata": {},
   "outputs": [],
   "source": [
    "def create_data_generator(directory, max_input_length, max_label_length, batch_size=64, num_epochs=5):\n",
    "    x, y, input_lengths, label_lengths = [], [], [], []\n",
    "    epochs = 0\n",
    "    \n",
    "    while epochs < num_epochs:\n",
    "        with open(os.path.join(directory, 'LibriSpeech-metadata.csv'), 'r') as metadata:\n",
    "            metadata_reader = csv.DictReader(metadata, fieldnames=['filename', 'spec_length', 'labels_length', 'labels'])\n",
    "            next(metadata_reader)\n",
    "            for row in metadata_reader:\n",
    "                audio = np.load(os.path.join(directory, row['filename'] + '.npy'))\n",
    "                x.append(audio)\n",
    "                y.append([int(i) for i in row['labels'].split(' ')])\n",
    "                input_lengths.append(row['spec_length'])\n",
    "                label_lengths.append(row['labels_length'])\n",
    "                if len(x) == batch_size:\n",
    "                    yield {\n",
    "                        'inputs': tf.keras.preprocessing.sequence.pad_sequences(x, maxlen=max_input_length, padding='post'),\n",
    "                        'labels': tf.keras.preprocessing.sequence.pad_sequences(y, maxlen=max_label_length, padding='post'),\n",
    "                        'input_lengths': np.asarray(input_lengths, dtype=np.int32),\n",
    "                        'label_lengths': np.asarray(label_lengths, dtype=np.int32)\n",
    "                    }, {\n",
    "                        'ctc': np.zeros([batch_size])\n",
    "                    }\n",
    "                    x, y, input_lengths, label_lengths = [], [], [], []\n",
    "        epochs = epochs + 1\n",
    "                "
   ]
  },
  {
   "cell_type": "code",
   "execution_count": 21,
   "metadata": {},
   "outputs": [],
   "source": [
    "def log_linear_specgram(audio, sample_rate, window_size=20,\n",
    "                        step_size=10, eps=1e-10):\n",
    "    nperseg = int(round(window_size * sample_rate / 1e3))\n",
    "    noverlap = int(round(step_size * sample_rate / 1e3))\n",
    "\n",
    "    _, _, spec = signal.spectrogram(audio, fs=sample_rate,\n",
    "                                    window='hann', nperseg=nperseg, noverlap=noverlap,\n",
    "                                    detrend=False)\n",
    "\n",
    "    return np.log(spec.T.astype(np.float32) + eps)\n",
    "\n",
    "\n",
    "def preprocess_librispeech(directory):\n",
    "    print(\"Pre-processing LibriSpeech corpus\")\n",
    "\n",
    "    start_time = time.time()\n",
    "    character_mapping = create_character_mapping()\n",
    "\n",
    "    if not os.path.exists(preprocessing['data_dir']):\n",
    "        os.makedirs(preprocessing['data_dir'])\n",
    "\n",
    "    dir_walk = list(os.walk(directory))\n",
    "    num_hours = 0\n",
    "    num_train = 0\n",
    "\n",
    "    with open(os.path.join(preprocessing['cache_dir'] + '/LibriSpeech-metadata.csv'), 'w', newline='') as metadata:\n",
    "        metadata_writer = csv.DictWriter(metadata, fieldnames=['filename', 'spec_length', 'labels_length', 'labels'])\n",
    "        metadata_writer.writeheader()\n",
    "        for root, dirs, files in tqdm(dir_walk):\n",
    "            for file in files:\n",
    "                if file[-4:] == '.txt' and num_train < training['max_train']:\n",
    "                    filename = os.path.join(root, file)\n",
    "                    with open(filename, 'r') as f:\n",
    "                        txt = f.read().split(' ')\n",
    "                        \n",
    "                        filename_base_no_path = os.path.splitext(file)[0]\n",
    "                        filename_base = os.path.splitext(filename)[0]\n",
    "                        filename_wav = filename_base + '.wav'\n",
    "                        audio, sr = sf.read(filename_wav)\n",
    "                        num_hours += (len(audio) / sr) / 3600\n",
    "                        spec = log_linear_specgram(audio, sr, window_size=preprocessing['window_size'],\n",
    "                                                   step_size=preprocessing['step_size'])\n",
    "                        np.save(os.path.join(preprocessing['cache_dir'], filename_base_no_path) + '.npy', spec)\n",
    "                        ids = [character_mapping[c] for c in ' '.join(txt).lower()\n",
    "                               if c in character_mapping]\n",
    "                        metadata_writer.writerow({\n",
    "                            'filename': filename_base_no_path,\n",
    "                            'spec_length': spec.shape[0],\n",
    "                            'labels_length': len(ids),\n",
    "                            'labels': ' '.join([str(i) for i in ids])\n",
    "                        })\n",
    "                            \n",
    "                        if num_train + 1 <= training['max_train']:\n",
    "                            num_train = num_train + 1\n",
    "                            \n",
    "            \n",
    "            if num_train >= training['max_train']:\n",
    "                print('Processed {} files: max train {} reached...'.format(num_train, training['max_train']))\n",
    "                break\n",
    "\n",
    "    print(\"Done!\")\n",
    "    print(\"Hours pre-processed: \" + str(num_hours))\n",
    "    print(\"Time: \" + str(time.time() - start_time))"
   ]
  },
  {
   "cell_type": "code",
   "execution_count": 22,
   "metadata": {},
   "outputs": [
    {
     "name": "stdout",
     "output_type": "stream",
     "text": [
      "Pre-processing LibriSpeech corpus\n"
     ]
    },
    {
     "data": {
      "application/vnd.jupyter.widget-view+json": {
       "model_id": "2e7c41704f4c4154b929c5521c74dcc5",
       "version_major": 2,
       "version_minor": 0
      },
      "text/plain": [
       "HBox(children=(FloatProgress(value=0.0, max=837.0), HTML(value='')))"
      ]
     },
     "metadata": {},
     "output_type": "display_data"
    },
    {
     "name": "stdout",
     "output_type": "stream",
     "text": [
      "Processed 100 files: max train 100 reached...\n",
      "\n",
      "Done!\n",
      "Hours pre-processed: 0.388797204861111\n",
      "Time: 2.3015971183776855\n"
     ]
    }
   ],
   "source": [
    "preprocess_librispeech(preprocessing['data_dir'])"
   ]
  },
  {
   "cell_type": "code",
   "execution_count": 23,
   "metadata": {},
   "outputs": [],
   "source": [
    "character_mapping = create_character_mapping()\n",
    "data_details = get_data_details(filename=os.path.join(preprocessing['cache_dir'], 'LibriSpeech-metadata.csv'))"
   ]
  },
  {
   "cell_type": "code",
   "execution_count": 24,
   "metadata": {},
   "outputs": [
    {
     "name": "stdout",
     "output_type": "stream",
     "text": [
      "{'max_input_length': 1676, 'max_label_length': 244, 'num_samples': 100}\n"
     ]
    }
   ],
   "source": [
    "print(data_details)"
   ]
  },
  {
   "cell_type": "code",
   "execution_count": 25,
   "metadata": {},
   "outputs": [],
   "source": [
    "training['steps_per_epoch'] = int(data_details['num_samples'] / training['batch_size'])\n",
    "model['max_input_length'] = data_details['max_input_length']\n",
    "model['max_label_length'] = data_details['max_label_length']\n",
    "model['vocab_size'] = len(character_mapping)"
   ]
  },
  {
   "cell_type": "code",
   "execution_count": 26,
   "metadata": {},
   "outputs": [],
   "source": [
    "data_generator = create_data_generator(directory=preprocessing['cache_dir'],\n",
    "                                             max_input_length=model['max_input_length'],\n",
    "                                             max_label_length=model['max_label_length'],\n",
    "                                             batch_size=training['batch_size'],\n",
    "                                             num_epochs=training['epochs'])"
   ]
  },
  {
   "cell_type": "code",
   "execution_count": 27,
   "metadata": {},
   "outputs": [
    {
     "name": "stdout",
     "output_type": "stream",
     "text": [
      "Model: \"functional_1\"\n",
      "__________________________________________________________________________________________________\n",
      "Layer (type)                    Output Shape         Param #     Connected to                     \n",
      "==================================================================================================\n",
      "inputs (InputLayer)             [(None, 1676, 161)]  0                                            \n",
      "__________________________________________________________________________________________________\n",
      "batch_normalization (BatchNorma (None, 1676, 161)    644         inputs[0][0]                     \n",
      "__________________________________________________________________________________________________\n",
      "zero_padding1d (ZeroPadding1D)  (None, 3352, 161)    0           batch_normalization[0][0]        \n",
      "__________________________________________________________________________________________________\n",
      "conv1d (Conv1D)                 (None, 1676, 100)    80600       zero_padding1d[0][0]             \n",
      "__________________________________________________________________________________________________\n",
      "batch_normalization_1 (BatchNor (None, 1676, 100)    400         conv1d[0][0]                     \n",
      "__________________________________________________________________________________________________\n",
      "bidirectional (Bidirectional)   (None, 1676, 32)     25728       batch_normalization_1[0][0]      \n",
      "__________________________________________________________________________________________________\n",
      "batch_normalization_2 (BatchNor (None, 1676, 32)     128         bidirectional[0][0]              \n",
      "__________________________________________________________________________________________________\n",
      "zero_padding1d_1 (ZeroPadding1D (None, 1677, 32)     0           batch_normalization_2[0][0]      \n",
      "__________________________________________________________________________________________________\n",
      "conv1d_1 (Conv1D)               (None, 1676, 100)    6500        zero_padding1d_1[0][0]           \n",
      "__________________________________________________________________________________________________\n",
      "time_distributed (TimeDistribut (None, 1676, 28)     2828        conv1d_1[0][0]                   \n",
      "__________________________________________________________________________________________________\n",
      "labels (InputLayer)             [(None, None)]       0                                            \n",
      "__________________________________________________________________________________________________\n",
      "input_lengths (InputLayer)      [(None, 1)]          0                                            \n",
      "__________________________________________________________________________________________________\n",
      "label_lengths (InputLayer)      [(None, 1)]          0                                            \n",
      "__________________________________________________________________________________________________\n",
      "ctc (Lambda)                    (None, 1)            0           time_distributed[0][0]           \n",
      "                                                                 labels[0][0]                     \n",
      "                                                                 input_lengths[0][0]              \n",
      "                                                                 label_lengths[0][0]              \n",
      "==================================================================================================\n",
      "Total params: 116,828\n",
      "Trainable params: 116,242\n",
      "Non-trainable params: 586\n",
      "__________________________________________________________________________________________________\n",
      "None\n",
      "Epoch 1/5\n",
      "20/20 [==============================] - 15s 729ms/step - loss: 3150.2871\n",
      "Epoch 2/5\n",
      "20/20 [==============================] - 15s 727ms/step - loss: 2122.6577\n",
      "Epoch 3/5\n",
      "20/20 [==============================] - 15s 757ms/step - loss: 1315.9285\n",
      "Epoch 4/5\n",
      "20/20 [==============================] - 16s 808ms/step - loss: 942.1353\n",
      "Epoch 5/5\n",
      "20/20 [==============================] - 33s 2s/step - loss: 723.4091\n"
     ]
    }
   ],
   "source": [
    "speech_model = SpeechModel(hparams=model)\n",
    "speech_model.train_generator(data_generator, training)"
   ]
  },
  {
   "cell_type": "code",
   "execution_count": 44,
   "metadata": {},
   "outputs": [],
   "source": [
    "tst_gen = create_data_generator(directory=preprocessing['cache_dir'],\n",
    "                                             max_input_length=model['max_input_length'],\n",
    "                                             max_label_length=model['max_label_length'],\n",
    "                                             batch_size=training['batch_size'],\n",
    "                                             num_epochs=1)"
   ]
  },
  {
   "cell_type": "code",
   "execution_count": 45,
   "metadata": {},
   "outputs": [
    {
     "name": "stdout",
     "output_type": "stream",
     "text": [
      "[[743.97205]\n",
      " [759.98737]\n",
      " [956.3779 ]\n",
      " [653.14355]\n",
      " [861.2862 ]]\n",
      "[[952.1141]\n",
      " [815.5294]\n",
      " [921.467 ]\n",
      " [857.4423]\n",
      " [902.2468]]\n",
      "[[ 897.61945]\n",
      " [ 885.2978 ]\n",
      " [1032.0532 ]\n",
      " [ 946.6051 ]\n",
      " [ 712.92255]]\n",
      "[[788.29486]\n",
      " [851.4849 ]\n",
      " [890.17596]\n",
      " [841.6435 ]\n",
      " [698.52325]]\n",
      "[[1038.7188 ]\n",
      " [ 920.17224]\n",
      " [ 881.7219 ]\n",
      " [1093.583  ]\n",
      " [ 944.9488 ]]\n",
      "[[ 933.3971]\n",
      " [1026.4095]\n",
      " [ 963.6623]\n",
      " [ 989.2978]\n",
      " [ 900.0741]]\n",
      "[[1036.6003 ]\n",
      " [ 827.54895]\n",
      " [ 788.2629 ]\n",
      " [ 663.8893 ]\n",
      " [ 975.51385]]\n",
      "[[850.2042]\n",
      " [904.1754]\n",
      " [902.2056]\n",
      " [936.2772]\n",
      " [797.0714]]\n",
      "[[672.27466]\n",
      " [798.2145 ]\n",
      " [485.91864]\n",
      " [896.7823 ]\n",
      " [850.35736]]\n",
      "[[1292.2743 ]\n",
      " [ 957.9069 ]\n",
      " [ 745.57623]\n",
      " [ 691.29156]\n",
      " [ 989.72974]]\n",
      "[[ 731.374 ]\n",
      " [ 852.1066]\n",
      " [1414.2797]\n",
      " [ 861.0073]\n",
      " [ 830.006 ]]\n",
      "[[814.72687]\n",
      " [799.25464]\n",
      " [844.71497]\n",
      " [928.69037]\n",
      " [932.4999 ]]\n",
      "[[399.04126]\n",
      " [614.9378 ]\n",
      " [889.0976 ]\n",
      " [673.6798 ]\n",
      " [812.8345 ]]\n",
      "[[719.9427 ]\n",
      " [745.549  ]\n",
      " [960.40765]\n",
      " [812.5403 ]\n",
      " [772.0764 ]]\n",
      "[[1308.6666 ]\n",
      " [ 918.55383]\n",
      " [ 761.92773]\n",
      " [ 868.2501 ]\n",
      " [ 789.29114]]\n",
      "[[870.848  ]\n",
      " [881.1194 ]\n",
      " [983.18274]\n",
      " [876.6072 ]\n",
      " [908.1066 ]]\n",
      "[[968.3482 ]\n",
      " [775.756  ]\n",
      " [726.08673]\n",
      " [976.6714 ]\n",
      " [823.09015]]\n",
      "[[848.7683 ]\n",
      " [851.99304]\n",
      " [899.56226]\n",
      " [825.3777 ]\n",
      " [843.40515]]\n",
      "[[1104.6473 ]\n",
      " [ 788.1048 ]\n",
      " [ 800.372  ]\n",
      " [ 854.14014]\n",
      " [ 656.94867]]\n",
      "[[681.26404]\n",
      " [889.62085]\n",
      " [675.7146 ]\n",
      " [827.22424]\n",
      " [890.8238 ]]\n"
     ]
    }
   ],
   "source": [
    "for i in tst_gen:\n",
    "    print(speech_model.model.predict(i[0]))"
   ]
  },
  {
   "cell_type": "code",
   "execution_count": null,
   "metadata": {},
   "outputs": [],
   "source": []
  }
 ],
 "metadata": {
  "kernelspec": {
   "display_name": "Python 3",
   "language": "python",
   "name": "python3"
  },
  "language_info": {
   "codemirror_mode": {
    "name": "ipython",
    "version": 3
   },
   "file_extension": ".py",
   "mimetype": "text/x-python",
   "name": "python",
   "nbconvert_exporter": "python",
   "pygments_lexer": "ipython3",
   "version": "3.8.5"
  }
 },
 "nbformat": 4,
 "nbformat_minor": 2
}
