{
 "cells": [
  {
   "cell_type": "code",
   "execution_count": 1,
   "metadata": {},
   "outputs": [],
   "source": [
    "import numpy as np\n",
    "import tensorflow as tf "
   ]
  },
  {
   "cell_type": "code",
   "execution_count": 20,
   "metadata": {},
   "outputs": [],
   "source": [
    "class HMM(object):\n",
    "    def __init__(self, initial_prob, trans_prob, obs_prob):\n",
    "        self.N = np.size(initial_prob)\n",
    "        self.initial_prob = initial_prob\n",
    "        self.trans_prob = trans_prob\n",
    "        self.emission = obs_prob\n",
    "        assert self.initial_prob.shape == (self.N, 1)\n",
    "        assert self.trans_prob.shape == (self.N, self.N)\n",
    "        assert obs_prob.shape[0] == self.N\n",
    "        self.obs_idx = 0\n",
    "        self.fwd = tf.cast(0., tf.double)\n",
    "        self.viterbi = None\n",
    "        \n",
    "    def get_emission(self, obs_idx):\n",
    "        slice_location = [0, obs_idx]\n",
    "        num_rows = tf.shape(self.emission)[0]\n",
    "        slice_shape = [num_rows, 1]\n",
    "        return tf.slice(self.emission, slice_location, slice_shape)\n",
    "    \n",
    "    def forward_init_op(self, obs_idx):\n",
    "        self.obs_idx = obs_idx\n",
    "        obs_prob = self.get_emission(self.obs_idx)\n",
    "        fwd = tf.multiply(self.initial_prob, obs_prob)\n",
    "        return fwd\n",
    "    \n",
    "    def forward_op(self, obs_idx, fwd):\n",
    "        self.obs_idx = obs_idx\n",
    "        self.fwd = fwd\n",
    "        transitions = tf.matmul(self.fwd,\n",
    "        tf.transpose(self.get_emission(self.obs_idx)))\n",
    "        weighted_transitions = transitions * self.trans_prob\n",
    "        fwd = tf.reduce_sum(weighted_transitions, 0)\n",
    "        return tf.reshape(fwd, tf.shape(self.fwd))\n",
    "        \n",
    "    def decode_op(self, obs_idx, viterbi):\n",
    "        self.viterbi = viterbi\n",
    "        self.obs_idx = obs_idx\n",
    "        transitions = tf.matmul(viterbi,\n",
    "        tf.transpose(self.get_emission(self.obs_idx)))\n",
    "        weighted_transitions = transitions * self.trans_prob\n",
    "        viterbi = tf.reduce_max(weighted_transitions, 0)\n",
    "        return tf.reshape(viterbi, tf.shape(self.viterbi))\n",
    "\n",
    "    def backpt_op(self, viterbi):\n",
    "        back_transitions = tf.matmul(self.viterbi, np.ones((1, self.N)))\n",
    "        weighted_back_transitions = back_transitions * self.trans_prob\n",
    "        return tf.argmax(weighted_back_transitions, 0)     "
   ]
  },
  {
   "cell_type": "code",
   "execution_count": 21,
   "metadata": {},
   "outputs": [],
   "source": [
    "def forward_algorithm(sess, hmm, observations):\n",
    "    fwd = hmm.forward_init_op(observations[0])\n",
    "    for t in range(1, len(observations)):\n",
    "        fwd = hmm.forward_op(observations[t],fwd)\n",
    "    prob = tf.reduce_sum(fwd)\n",
    "    return prob"
   ]
  },
  {
   "cell_type": "code",
   "execution_count": 22,
   "metadata": {},
   "outputs": [],
   "source": [
    "def viterbi_decode(hmm, observations):\n",
    "    viterbi = hmm.forward_init_op(observations[0])\n",
    "    backpts = np.ones((hmm.N, len(observations)), 'int32') * -1\n",
    "    for t in range(1, len(observations)):\n",
    "        viterbi = hmm.decode_op(observations[t], viterbi)\n",
    "        backpt = hmm.backpt_op(viterbi)        \n",
    "        backpts[:, t] = backpt\n",
    "        \n",
    "    tokens = [tf.math.argmax(viterbi[:, -1], 0)]\n",
    "    for i in range(len(observations) - 1, 0, -1):\n",
    "        tokens.append(backpts[tokens[-1], i])\n",
    "    return tokens[::-1]\n"
   ]
  },
  {
   "cell_type": "code",
   "execution_count": 25,
   "metadata": {},
   "outputs": [
    {
     "name": "stdout",
     "output_type": "stream",
     "text": [
      "Most likely hidden states are [1, 0, 0, 0, <tf.Tensor: shape=(), dtype=int64, numpy=0>]\n"
     ]
    }
   ],
   "source": [
    "initial_prob = np.array([[0.6],[0.4]])\n",
    "trans_prob = np.array([[0.7, 0.3],\n",
    "                       [0.4, 0.6]])\n",
    "obs_prob = np.array([[0.1, 0.4, 0.5],\n",
    "                     [0.6, 0.3, 0.1]])\n",
    "hmm = HMM(initial_prob=initial_prob, trans_prob=trans_prob, obs_prob=obs_prob)\n",
    "observations = [0, 1, 1, 2, 1]\n",
    "seq = viterbi_decode(hmm, observations)\n",
    "print('Most likely hidden states are {}'.format(seq))\n"
   ]
  },
  {
   "cell_type": "code",
   "execution_count": null,
   "metadata": {},
   "outputs": [],
   "source": []
  }
 ],
 "metadata": {
  "kernelspec": {
   "display_name": "Python 3",
   "language": "python",
   "name": "python3"
  },
  "language_info": {
   "codemirror_mode": {
    "name": "ipython",
    "version": 3
   },
   "file_extension": ".py",
   "mimetype": "text/x-python",
   "name": "python",
   "nbconvert_exporter": "python",
   "pygments_lexer": "ipython3",
   "version": "3.8.5"
  }
 },
 "nbformat": 4,
 "nbformat_minor": 2
}
